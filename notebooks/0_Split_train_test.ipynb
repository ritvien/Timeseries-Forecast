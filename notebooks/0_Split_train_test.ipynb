{
 "cells": [
  {
   "cell_type": "code",
   "execution_count": 22,
   "id": "34c04bac",
   "metadata": {
    "ExecuteTime": {
     "end_time": "2025-02-11T05:55:53.973933Z",
     "start_time": "2025-02-11T05:55:53.959400Z"
    }
   },
   "outputs": [],
   "source": [
    "DATA_DIR = '../data/'\n",
    "DATA_RAW = '../data/raw/temp_raw.csv'\n",
    "DATA_TRAIN_RAW = '../data/raw/train.csv'\n",
    "DATA_TEST_RAW = '../tests/test.csv'"
   ]
  },
  {
   "cell_type": "markdown",
   "id": "e6bc3272",
   "metadata": {},
   "source": [
    "# Import Libraries and Module"
   ]
  },
  {
   "cell_type": "code",
   "execution_count": 11,
   "id": "88009426",
   "metadata": {
    "ExecuteTime": {
     "end_time": "2025-02-11T05:47:06.186145Z",
     "start_time": "2025-02-11T05:47:06.178044Z"
    }
   },
   "outputs": [],
   "source": [
    "import pandas as pd"
   ]
  },
  {
   "cell_type": "markdown",
   "id": "8e72f2c4",
   "metadata": {},
   "source": [
    "# Split"
   ]
  },
  {
   "cell_type": "code",
   "execution_count": 12,
   "id": "deae6a8d",
   "metadata": {
    "ExecuteTime": {
     "end_time": "2025-02-11T05:47:59.989060Z",
     "start_time": "2025-02-11T05:47:59.964477Z"
    }
   },
   "outputs": [],
   "source": [
    "data = pd.read_csv(DATA_RAW)"
   ]
  },
  {
   "cell_type": "code",
   "execution_count": 14,
   "id": "15383273",
   "metadata": {
    "ExecuteTime": {
     "end_time": "2025-02-11T05:48:10.846408Z",
     "start_time": "2025-02-11T05:48:10.830378Z"
    },
    "scrolled": true
   },
   "outputs": [
    {
     "data": {
      "text/plain": [
       "2920"
      ]
     },
     "execution_count": 14,
     "metadata": {},
     "output_type": "execute_result"
    }
   ],
   "source": [
    "3650-365*2"
   ]
  },
  {
   "cell_type": "code",
   "execution_count": 18,
   "id": "d35c5599",
   "metadata": {
    "ExecuteTime": {
     "end_time": "2025-02-11T05:48:56.790097Z",
     "start_time": "2025-02-11T05:48:56.782071Z"
    }
   },
   "outputs": [],
   "source": [
    "train = data[:2920]\n",
    "test = data[2921:]"
   ]
  },
  {
   "cell_type": "code",
   "execution_count": 23,
   "id": "ba22edab",
   "metadata": {
    "ExecuteTime": {
     "end_time": "2025-02-11T05:55:58.494680Z",
     "start_time": "2025-02-11T05:55:58.461748Z"
    }
   },
   "outputs": [],
   "source": [
    "train.to_csv(DATA_TRAIN_RAW, index=False)\n",
    "test.to_csv(DATA_TEST_RAW, index=False)"
   ]
  },
  {
   "cell_type": "markdown",
   "id": "8a5579df",
   "metadata": {},
   "source": [
    "> split data ok "
   ]
  }
 ],
 "metadata": {
  "kernelspec": {
   "display_name": "Python 3 (ipykernel)",
   "language": "python",
   "name": "python3"
  },
  "language_info": {
   "codemirror_mode": {
    "name": "ipython",
    "version": 3
   },
   "file_extension": ".py",
   "mimetype": "text/x-python",
   "name": "python",
   "nbconvert_exporter": "python",
   "pygments_lexer": "ipython3",
   "version": "3.9.13"
  },
  "toc": {
   "base_numbering": 1,
   "nav_menu": {},
   "number_sections": true,
   "sideBar": true,
   "skip_h1_title": false,
   "title_cell": "Table of Contents",
   "title_sidebar": "Contents",
   "toc_cell": false,
   "toc_position": {},
   "toc_section_display": true,
   "toc_window_display": false
  }
 },
 "nbformat": 4,
 "nbformat_minor": 5
}
