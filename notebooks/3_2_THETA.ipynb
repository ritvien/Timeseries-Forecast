{
 "cells": [
  {
   "cell_type": "code",
   "execution_count": 1,
   "id": "db813f64",
   "metadata": {
    "ExecuteTime": {
     "end_time": "2025-02-15T10:25:04.252149Z",
     "start_time": "2025-02-15T10:25:04.230095Z"
    }
   },
   "outputs": [],
   "source": [
    "DATA_TRAIN_PROCESSED = '../data/prepocessed/train.csv'\n",
    "LOG_RESULTS = '../models/log/metrics_results.csv'\n",
    "REPORT = '../reports/results/'"
   ]
  },
  {
   "cell_type": "markdown",
   "id": "021d986d",
   "metadata": {},
   "source": [
    "# Import"
   ]
  },
  {
   "cell_type": "code",
   "execution_count": 2,
   "id": "daf7a7cd",
   "metadata": {
    "ExecuteTime": {
     "end_time": "2025-02-15T10:25:06.999269Z",
     "start_time": "2025-02-15T10:25:04.537975Z"
    }
   },
   "outputs": [
    {
     "name": "stderr",
     "output_type": "stream",
     "text": [
      "C:\\Users\\Admin\\anaconda3\\lib\\site-packages\\pandas\\core\\computation\\expressions.py:21: UserWarning: Pandas requires version '2.8.4' or newer of 'numexpr' (version '2.8.3' currently installed).\n",
      "  from pandas.core.computation.check import NUMEXPR_INSTALLED\n",
      "C:\\Users\\Admin\\anaconda3\\lib\\site-packages\\pandas\\core\\arrays\\masked.py:60: UserWarning: Pandas requires version '1.3.6' or newer of 'bottleneck' (version '1.3.5' currently installed).\n",
      "  from pandas.core import (\n"
     ]
    }
   ],
   "source": [
    "import numpy as np\n",
    "import pandas as pd\n",
    "import matplotlib.pyplot as plt\n",
    "import seaborn as sns\n",
    "from tqdm import tqdm\n",
    "import warnings\n",
    "\n",
    "warnings.filterwarnings(\"ignore\")"
   ]
  },
  {
   "cell_type": "code",
   "execution_count": 4,
   "id": "1fc9e614",
   "metadata": {
    "ExecuteTime": {
     "end_time": "2025-02-15T10:31:29.345306Z",
     "start_time": "2025-02-15T10:31:29.332082Z"
    }
   },
   "outputs": [],
   "source": [
    "from statsmodels.tsa.forecasting.theta import ThetaModel\n",
    "from sklearn.preprocessing import MinMaxScaler, StandardScaler"
   ]
  },
  {
   "cell_type": "markdown",
   "id": "4c3f4709",
   "metadata": {},
   "source": [
    "# Define"
   ]
  },
  {
   "cell_type": "markdown",
   "id": "a53aa96f",
   "metadata": {},
   "source": [
    "## Model"
   ]
  },
  {
   "cell_type": "code",
   "execution_count": 114,
   "id": "d3a08eb1",
   "metadata": {
    "ExecuteTime": {
     "end_time": "2025-02-15T10:45:51.326185Z",
     "start_time": "2025-02-15T10:45:51.318017Z"
    }
   },
   "outputs": [],
   "source": [
    "from statsmodels.tsa.forecasting.theta import ThetaModel\n",
    "\n",
    "class THETAModel:\n",
    "    def __init__(self, train_data):\n",
    "        \"\"\"\n",
    "        Khởi tạo mô hình Theta.\n",
    "        \n",
    "        Args:\n",
    "            train_data (pd.Series): Dữ liệu huấn luyện (chuỗi thời gian).\n",
    "        \"\"\"\n",
    "        self.train_data = train_data\n",
    "        self.model = None\n",
    "\n",
    "    def fit(self, periods=0):\n",
    "        \"\"\"\n",
    "        Huấn luyện mô hình Theta với chu kỳ mùa vụ được chỉ định.\n",
    "\n",
    "        Args:\n",
    "            periods (int): Độ dài của chu kỳ mùa vụ.\n",
    "        \"\"\"\n",
    "        if not isinstance(periods, int) or periods <= 0:\n",
    "            raise ValueError(\"periods phải là số nguyên dương.\")\n",
    "\n",
    "        self.model = ThetaModel(self.train_data, period=periods).fit()\n",
    "        print(f\"Theta Model trained successfully with period={periods}.\")\n",
    "\n",
    "    def predict(self, length):\n",
    "        \"\"\"\n",
    "        Dự báo nhiều bước phía trước.\n",
    "\n",
    "        Args:\n",
    "            length (int): Số bước cần dự báo.\n",
    "\n",
    "        Returns:\n",
    "            np.array: Giá trị dự báo.\n",
    "        \"\"\"\n",
    "        if self.model is None:\n",
    "            raise ValueError(\"Model chưa được huấn luyện. Vui lòng gọi fit() trước.\")\n",
    "\n",
    "        forecast = self.model.forecast(steps=length)\n",
    "        return forecast.to_numpy(), None"
   ]
  },
  {
   "cell_type": "markdown",
   "id": "c0e47b0a",
   "metadata": {},
   "source": [
    "## Task"
   ]
  },
  {
   "cell_type": "code",
   "execution_count": 115,
   "id": "49f827b3",
   "metadata": {
    "ExecuteTime": {
     "end_time": "2025-02-15T10:45:51.605893Z",
     "start_time": "2025-02-15T10:45:51.587203Z"
    }
   },
   "outputs": [],
   "source": [
    "def normalize_data(data, method=\"minmax\"):\n",
    "    \"\"\"Chuẩn hóa dữ liệu theo phương pháp MinMax hoặc StandardScaler.\"\"\"\n",
    "    if method == \"minmax\":\n",
    "        scaler = MinMaxScaler(feature_range=(0, 1))\n",
    "    elif method == \"standard\":\n",
    "        scaler = StandardScaler()\n",
    "    else:\n",
    "        return data, None\n",
    "\n",
    "    data_scaled = scaler.fit_transform(np.array(data).reshape(-1, 1))\n",
    "    return data_scaled, scaler"
   ]
  },
  {
   "cell_type": "code",
   "execution_count": 116,
   "id": "63c54372",
   "metadata": {
    "ExecuteTime": {
     "end_time": "2025-02-15T10:45:51.760614Z",
     "start_time": "2025-02-15T10:45:51.748098Z"
    }
   },
   "outputs": [],
   "source": [
    "def inverse_scale(data_scaled, scaler):\n",
    "    \"\"\"\n",
    "    Đảo ngược quá trình chuẩn hóa dữ liệu.\n",
    "\n",
    "    Parameters:\n",
    "        data_scaled (np.array): Dữ liệu đã được chuẩn hóa.\n",
    "        scaler: Đối tượng scaler đã sử dụng để chuẩn hóa dữ liệu.\n",
    "\n",
    "    Returns:\n",
    "        np.array: Dữ liệu gốc sau khi đảo ngược chuẩn hóa.\n",
    "    \"\"\"\n",
    "    if scaler is None:\n",
    "        return data_scaled  \n",
    "    data_original = scaler.inverse_transform(np.array(data_scaled).reshape(-1, 1))\n",
    "    return data_original.flatten()"
   ]
  },
  {
   "cell_type": "code",
   "execution_count": 117,
   "id": "443ccadb",
   "metadata": {
    "ExecuteTime": {
     "end_time": "2025-02-15T10:45:51.917889Z",
     "start_time": "2025-02-15T10:45:51.899827Z"
    }
   },
   "outputs": [],
   "source": [
    "def plot_forecast(train_data, y_test, y_pred, model, index, conf_int=None):\n",
    "    \"\"\"\n",
    "    Vẽ và lưu biểu đồ dự báo.\n",
    "\n",
    "    Args:\n",
    "        train_data (pd.Series): Dữ liệu huấn luyện.\n",
    "        y_test (pd.Series): Dữ liệu thực tế.\n",
    "        y_pred (np.array): Giá trị dự báo.\n",
    "        model: Đối tượng model đã được huấn luyện (có thuộc tính `__class__.__name__`).\n",
    "        index (int): Index của dòng metrics đã lưu.\n",
    "        conf_int (np.array, optional): Khoảng tin cậy của dự báo.\n",
    "    \"\"\"\n",
    "    plt.figure(figsize=(12, 6))\n",
    "\n",
    "    train_index = train_data.index\n",
    "    test_index = y_test.index\n",
    "\n",
    "    model_name = model.__class__.__name__\n",
    "\n",
    "    plt.plot(train_index, train_data, label=\"Original Data\", color='gray', alpha=0.5)\n",
    "    plt.plot(test_index, y_test, label=\"Actual\", color='blue')\n",
    "    plt.plot(test_index[:len(y_pred)], y_pred, label=\"Predicted\", color='red', linestyle='dashed')\n",
    "\n",
    "    # Vẽ khoảng tin cậy nếu có\n",
    "    if conf_int is not None:\n",
    "        conf_int = np.array(conf_int).reshape(-1, 2)\n",
    "        lower_bound, upper_bound = conf_int[:, 0], conf_int[:, 1]\n",
    "        plt.fill_between(test_index[:len(y_pred)], lower_bound, upper_bound, \n",
    "                         color='pink', alpha=0.3, label=\"Confidence Interval\")\n",
    "\n",
    "    # Cài đặt đồ thị\n",
    "    plt.title(f\"{model_name} Forecast\")\n",
    "    plt.xlabel(\"Time\")\n",
    "    plt.ylabel(\"Value\")\n",
    "    plt.legend(ncol=4)\n",
    "\n",
    "    # Lưu hình ảnh với tên index_{Model}.png\n",
    "    file_path = f\"{REPORT}_{index}_{model_name}.png\"\n",
    "    plt.savefig(file_path, dpi=300)\n",
    "    plt.close()\n",
    "\n",
    "    print(f\"Plot saved to {file_path}\")\n"
   ]
  },
  {
   "cell_type": "code",
   "execution_count": 118,
   "id": "74166dd8",
   "metadata": {
    "ExecuteTime": {
     "end_time": "2025-02-15T10:45:52.058900Z",
     "start_time": "2025-02-15T10:45:52.050274Z"
    }
   },
   "outputs": [],
   "source": [
    "from sklearn.metrics import mean_absolute_percentage_error, r2_score\n",
    "from datetime import datetime\n",
    "\n",
    "def compute_metrics(model, scaler, y_test, y_pred):\n",
    "    \"\"\"\n",
    "    Tính toán các chỉ số đánh giá mô hình và trả về dưới dạng một dòng DataFrame.\n",
    "\n",
    "    Args:\n",
    "        model (object): Đối tượng mô hình (VD: ARIMA, RandomForest, LSTM,...)\n",
    "        scaler (object): Bộ scaler đã sử dụng (VD: MinMaxScaler, StandardScaler,...)\n",
    "        y_test (array-like): Giá trị thực tế\n",
    "        y_pred (array-like): Giá trị dự đoán\n",
    "\n",
    "    Returns:\n",
    "        pd.DataFrame: Một dòng DataFrame chứa metrics đánh giá mô hình\n",
    "    \"\"\"\n",
    "\n",
    "    model_name = model.__class__.__name__\n",
    "\n",
    "    try:\n",
    "        model_params = model.get_params()\n",
    "    except AttributeError:\n",
    "        try:\n",
    "            model_params = model.order  # Cho ARIMA\n",
    "        except AttributeError:\n",
    "            model_params = \"Unknown\"\n",
    "\n",
    "    scaler_name = scaler.__class__.__name__\n",
    "    execution_date = datetime.today().strftime(\"%d-%m-%Y\")\n",
    "    mape = mean_absolute_percentage_error(y_test, y_pred)\n",
    "    rmse = np.sqrt(np.mean((y_test - y_pred) ** 2))\n",
    "    r2 = r2_score(y_test, y_pred)\n",
    "\n",
    "    result = pd.DataFrame([{\n",
    "        \"Model\": model_name,\n",
    "        \"Scaler\": scaler_name,\n",
    "        \"Params\": str(model_params),\n",
    "        \"MAPE\": mape,\n",
    "        \"RMSE\": rmse,\n",
    "        \"R2 Score\": r2,\n",
    "        \"Execution Date\": execution_date\n",
    "    }])\n",
    "\n",
    "    return result\n"
   ]
  },
  {
   "cell_type": "code",
   "execution_count": 119,
   "id": "a078ebe5",
   "metadata": {
    "ExecuteTime": {
     "end_time": "2025-02-15T10:45:52.220652Z",
     "start_time": "2025-02-15T10:45:52.208517Z"
    }
   },
   "outputs": [],
   "source": [
    "import os\n",
    "\n",
    "def save_metrics_to_csv(df, file_path):\n",
    "    \"\"\"\n",
    "    Lưu DataFrame metrics vào file CSV. Nếu file chưa tồn tại thì tạo mới, \n",
    "    nếu đã tồn tại thì append dữ liệu vào.\n",
    "\n",
    "    Args:\n",
    "        df (pd.DataFrame): DataFrame chứa metrics của mô hình.\n",
    "        file_path (str): Đường dẫn đến file CSV cần lưu.\n",
    "\n",
    "    Returns:\n",
    "        int: Index của dòng vừa được lưu.\n",
    "    \"\"\"\n",
    "    file_exists = os.path.isfile(file_path)\n",
    "\n",
    "    if file_exists:\n",
    "        existing_df = pd.read_csv(file_path)\n",
    "        last_index = existing_df.index[-1] + 1 if not existing_df.empty else 0\n",
    "    else:\n",
    "        last_index = 0\n",
    "\n",
    "    df.index = range(last_index, last_index + len(df))\n",
    "\n",
    "    # Lưu vào CSV\n",
    "    df.to_csv(file_path, mode=\"a\", index=False, header=not file_exists, encoding=\"utf-8\")\n",
    "    \n",
    "    print(f\"Metrics saved to {file_path}\")\n",
    "    \n",
    "    return last_index \n"
   ]
  },
  {
   "cell_type": "markdown",
   "id": "7c8988a9",
   "metadata": {},
   "source": [
    "# Run"
   ]
  },
  {
   "cell_type": "code",
   "execution_count": 120,
   "id": "60c123a4",
   "metadata": {
    "ExecuteTime": {
     "end_time": "2025-02-15T10:45:53.073965Z",
     "start_time": "2025-02-15T10:45:53.058775Z"
    }
   },
   "outputs": [],
   "source": [
    "data = pd.read_csv(DATA_TRAIN_PROCESSED)"
   ]
  },
  {
   "cell_type": "markdown",
   "id": "091937b2",
   "metadata": {},
   "source": [
    "* Configs"
   ]
  },
  {
   "cell_type": "code",
   "execution_count": 121,
   "id": "6047694c",
   "metadata": {
    "ExecuteTime": {
     "end_time": "2025-02-15T10:45:53.525112Z",
     "start_time": "2025-02-15T10:45:53.510564Z"
    }
   },
   "outputs": [],
   "source": [
    "normalize = None"
   ]
  },
  {
   "cell_type": "markdown",
   "id": "97f0c96d",
   "metadata": {},
   "source": [
    "* Process"
   ]
  },
  {
   "cell_type": "code",
   "execution_count": 122,
   "id": "13ccf440",
   "metadata": {
    "ExecuteTime": {
     "end_time": "2025-02-15T10:45:53.865190Z",
     "start_time": "2025-02-15T10:45:53.851627Z"
    }
   },
   "outputs": [],
   "source": [
    "data_copy = data.copy()\n",
    "data_copy[\"Date\"] = pd.to_datetime(data_copy[\"Date\"])\n",
    "data_copy.set_index(\"Date\", inplace=True)\n",
    "data_copy = data_copy.asfreq(\"D\")"
   ]
  },
  {
   "cell_type": "markdown",
   "id": "f0519ad6",
   "metadata": {},
   "source": [
    "* Split"
   ]
  },
  {
   "cell_type": "code",
   "execution_count": 123,
   "id": "f4484c1b",
   "metadata": {
    "ExecuteTime": {
     "end_time": "2025-02-15T10:45:54.449897Z",
     "start_time": "2025-02-15T10:45:54.435378Z"
    }
   },
   "outputs": [],
   "source": [
    "split_idx = int(len(data_copy) * 0.8)\n",
    "train_data = data_copy.iloc[:split_idx]\n",
    "val_data = data_copy.iloc[split_idx:]\n",
    "length_pred = len(val_data)"
   ]
  },
  {
   "cell_type": "markdown",
   "id": "5d265f47",
   "metadata": {},
   "source": [
    "* Scale"
   ]
  },
  {
   "cell_type": "code",
   "execution_count": 124,
   "id": "4a01e98b",
   "metadata": {
    "ExecuteTime": {
     "end_time": "2025-02-15T10:45:55.843309Z",
     "start_time": "2025-02-15T10:45:55.829764Z"
    }
   },
   "outputs": [],
   "source": [
    "train_scaled, scaler = normalize_data(train_data, method=normalize)"
   ]
  },
  {
   "cell_type": "markdown",
   "id": "c54d018e",
   "metadata": {},
   "source": [
    "* Init model"
   ]
  },
  {
   "cell_type": "code",
   "execution_count": 125,
   "id": "0b7e79de",
   "metadata": {
    "ExecuteTime": {
     "end_time": "2025-02-15T10:45:57.660044Z",
     "start_time": "2025-02-15T10:45:57.645514Z"
    }
   },
   "outputs": [],
   "source": [
    "model = THETAModel(train_scaled)"
   ]
  },
  {
   "cell_type": "markdown",
   "id": "c306d50c",
   "metadata": {},
   "source": [
    "* fit model"
   ]
  },
  {
   "cell_type": "code",
   "execution_count": 127,
   "id": "c15ffd3a",
   "metadata": {
    "ExecuteTime": {
     "end_time": "2025-02-15T10:46:05.928295Z",
     "start_time": "2025-02-15T10:46:05.848549Z"
    },
    "scrolled": true
   },
   "outputs": [
    {
     "name": "stdout",
     "output_type": "stream",
     "text": [
      "Theta Model trained successfully with period=365.\n"
     ]
    }
   ],
   "source": [
    "model.fit(365)"
   ]
  },
  {
   "cell_type": "markdown",
   "id": "34bf197d",
   "metadata": {},
   "source": [
    "* forecast"
   ]
  },
  {
   "cell_type": "code",
   "execution_count": 143,
   "id": "ea78899b",
   "metadata": {
    "ExecuteTime": {
     "end_time": "2025-02-15T10:50:13.007316Z",
     "start_time": "2025-02-15T10:50:12.995735Z"
    }
   },
   "outputs": [
    {
     "data": {
      "text/html": [
       "<div>\n",
       "<style scoped>\n",
       "    .dataframe tbody tr th:only-of-type {\n",
       "        vertical-align: middle;\n",
       "    }\n",
       "\n",
       "    .dataframe tbody tr th {\n",
       "        vertical-align: top;\n",
       "    }\n",
       "\n",
       "    .dataframe thead th {\n",
       "        text-align: right;\n",
       "    }\n",
       "</style>\n",
       "<table border=\"1\" class=\"dataframe\">\n",
       "  <thead>\n",
       "    <tr style=\"text-align: right;\">\n",
       "      <th></th>\n",
       "      <th>temperatures</th>\n",
       "    </tr>\n",
       "    <tr>\n",
       "      <th>Date</th>\n",
       "      <th></th>\n",
       "    </tr>\n",
       "  </thead>\n",
       "  <tbody>\n",
       "    <tr>\n",
       "      <th>1984-12-31</th>\n",
       "      <td>NaN</td>\n",
       "    </tr>\n",
       "  </tbody>\n",
       "</table>\n",
       "</div>"
      ],
      "text/plain": [
       "            temperatures\n",
       "Date                    \n",
       "1984-12-31           NaN"
      ]
     },
     "execution_count": 143,
     "metadata": {},
     "output_type": "execute_result"
    }
   ],
   "source": [
    "data_copy[data_copy.isna().any(axis=1)]"
   ]
  },
  {
   "cell_type": "code",
   "execution_count": 128,
   "id": "32031a51",
   "metadata": {
    "ExecuteTime": {
     "end_time": "2025-02-15T10:46:07.225935Z",
     "start_time": "2025-02-15T10:46:07.218348Z"
    },
    "scrolled": true
   },
   "outputs": [],
   "source": [
    "predictions, conf_int = model.predict(length_pred)"
   ]
  },
  {
   "cell_type": "markdown",
   "id": "a2c3df1b",
   "metadata": {},
   "source": [
    "* Inverse scale"
   ]
  },
  {
   "cell_type": "code",
   "execution_count": 108,
   "id": "c79c4585",
   "metadata": {
    "ExecuteTime": {
     "end_time": "2025-02-15T10:45:01.053533Z",
     "start_time": "2025-02-15T10:45:01.037998Z"
    }
   },
   "outputs": [],
   "source": [
    "if scaler is not None:\n",
    "    y_pred = inverse_scale(predictions, scaler)\n",
    "    conf_int[:,0] = inverse_scale(conf_int[:,0], scaler)\n",
    "    conf_int[:,1] = inverse_scale(conf_int[:,1], scaler)\n",
    "else:\n",
    "    y_pred = predictions"
   ]
  },
  {
   "cell_type": "markdown",
   "id": "2b83b6d3",
   "metadata": {},
   "source": [
    "* Evaluate"
   ]
  },
  {
   "cell_type": "code",
   "execution_count": 109,
   "id": "77f26013",
   "metadata": {
    "ExecuteTime": {
     "end_time": "2025-02-15T10:45:02.738602Z",
     "start_time": "2025-02-15T10:45:02.699459Z"
    }
   },
   "outputs": [
    {
     "ename": "ValueError",
     "evalue": "Input contains NaN, infinity or a value too large for dtype('float64').",
     "output_type": "error",
     "traceback": [
      "\u001b[1;31m---------------------------------------------------------------------------\u001b[0m",
      "\u001b[1;31mValueError\u001b[0m                                Traceback (most recent call last)",
      "\u001b[1;32m~\\AppData\\Local\\Temp\\ipykernel_19756\\2365975792.py\u001b[0m in \u001b[0;36m<module>\u001b[1;34m\u001b[0m\n\u001b[1;32m----> 1\u001b[1;33m \u001b[0mdf_metrics\u001b[0m \u001b[1;33m=\u001b[0m \u001b[0mcompute_metrics\u001b[0m\u001b[1;33m(\u001b[0m\u001b[0mmodel\u001b[0m\u001b[1;33m,\u001b[0m \u001b[0mscaler\u001b[0m\u001b[1;33m,\u001b[0m \u001b[0mval_data\u001b[0m\u001b[1;33m.\u001b[0m\u001b[0mvalues\u001b[0m\u001b[1;33m,\u001b[0m \u001b[0my_pred\u001b[0m\u001b[1;33m)\u001b[0m\u001b[1;33m\u001b[0m\u001b[1;33m\u001b[0m\u001b[0m\n\u001b[0m\u001b[0;32m      2\u001b[0m \u001b[0mdf_metrics\u001b[0m\u001b[1;33m\u001b[0m\u001b[1;33m\u001b[0m\u001b[0m\n",
      "\u001b[1;32m~\\AppData\\Local\\Temp\\ipykernel_19756\\3299057180.py\u001b[0m in \u001b[0;36mcompute_metrics\u001b[1;34m(model, scaler, y_test, y_pred)\u001b[0m\n\u001b[0;32m     28\u001b[0m     \u001b[0mscaler_name\u001b[0m \u001b[1;33m=\u001b[0m \u001b[0mscaler\u001b[0m\u001b[1;33m.\u001b[0m\u001b[0m__class__\u001b[0m\u001b[1;33m.\u001b[0m\u001b[0m__name__\u001b[0m\u001b[1;33m\u001b[0m\u001b[1;33m\u001b[0m\u001b[0m\n\u001b[0;32m     29\u001b[0m     \u001b[0mexecution_date\u001b[0m \u001b[1;33m=\u001b[0m \u001b[0mdatetime\u001b[0m\u001b[1;33m.\u001b[0m\u001b[0mtoday\u001b[0m\u001b[1;33m(\u001b[0m\u001b[1;33m)\u001b[0m\u001b[1;33m.\u001b[0m\u001b[0mstrftime\u001b[0m\u001b[1;33m(\u001b[0m\u001b[1;34m\"%d-%m-%Y\"\u001b[0m\u001b[1;33m)\u001b[0m\u001b[1;33m\u001b[0m\u001b[1;33m\u001b[0m\u001b[0m\n\u001b[1;32m---> 30\u001b[1;33m     \u001b[0mmape\u001b[0m \u001b[1;33m=\u001b[0m \u001b[0mmean_absolute_percentage_error\u001b[0m\u001b[1;33m(\u001b[0m\u001b[0my_test\u001b[0m\u001b[1;33m,\u001b[0m \u001b[0my_pred\u001b[0m\u001b[1;33m)\u001b[0m\u001b[1;33m\u001b[0m\u001b[1;33m\u001b[0m\u001b[0m\n\u001b[0m\u001b[0;32m     31\u001b[0m     \u001b[0mrmse\u001b[0m \u001b[1;33m=\u001b[0m \u001b[0mnp\u001b[0m\u001b[1;33m.\u001b[0m\u001b[0msqrt\u001b[0m\u001b[1;33m(\u001b[0m\u001b[0mnp\u001b[0m\u001b[1;33m.\u001b[0m\u001b[0mmean\u001b[0m\u001b[1;33m(\u001b[0m\u001b[1;33m(\u001b[0m\u001b[0my_test\u001b[0m \u001b[1;33m-\u001b[0m \u001b[0my_pred\u001b[0m\u001b[1;33m)\u001b[0m \u001b[1;33m**\u001b[0m \u001b[1;36m2\u001b[0m\u001b[1;33m)\u001b[0m\u001b[1;33m)\u001b[0m\u001b[1;33m\u001b[0m\u001b[1;33m\u001b[0m\u001b[0m\n\u001b[0;32m     32\u001b[0m     \u001b[0mr2\u001b[0m \u001b[1;33m=\u001b[0m \u001b[0mr2_score\u001b[0m\u001b[1;33m(\u001b[0m\u001b[0my_test\u001b[0m\u001b[1;33m,\u001b[0m \u001b[0my_pred\u001b[0m\u001b[1;33m)\u001b[0m\u001b[1;33m\u001b[0m\u001b[1;33m\u001b[0m\u001b[0m\n",
      "\u001b[1;32m~\\anaconda3\\lib\\site-packages\\sklearn\\utils\\validation.py\u001b[0m in \u001b[0;36minner_f\u001b[1;34m(*args, **kwargs)\u001b[0m\n\u001b[0;32m     63\u001b[0m             \u001b[0mextra_args\u001b[0m \u001b[1;33m=\u001b[0m \u001b[0mlen\u001b[0m\u001b[1;33m(\u001b[0m\u001b[0margs\u001b[0m\u001b[1;33m)\u001b[0m \u001b[1;33m-\u001b[0m \u001b[0mlen\u001b[0m\u001b[1;33m(\u001b[0m\u001b[0mall_args\u001b[0m\u001b[1;33m)\u001b[0m\u001b[1;33m\u001b[0m\u001b[1;33m\u001b[0m\u001b[0m\n\u001b[0;32m     64\u001b[0m             \u001b[1;32mif\u001b[0m \u001b[0mextra_args\u001b[0m \u001b[1;33m<=\u001b[0m \u001b[1;36m0\u001b[0m\u001b[1;33m:\u001b[0m\u001b[1;33m\u001b[0m\u001b[1;33m\u001b[0m\u001b[0m\n\u001b[1;32m---> 65\u001b[1;33m                 \u001b[1;32mreturn\u001b[0m \u001b[0mf\u001b[0m\u001b[1;33m(\u001b[0m\u001b[1;33m*\u001b[0m\u001b[0margs\u001b[0m\u001b[1;33m,\u001b[0m \u001b[1;33m**\u001b[0m\u001b[0mkwargs\u001b[0m\u001b[1;33m)\u001b[0m\u001b[1;33m\u001b[0m\u001b[1;33m\u001b[0m\u001b[0m\n\u001b[0m\u001b[0;32m     66\u001b[0m \u001b[1;33m\u001b[0m\u001b[0m\n\u001b[0;32m     67\u001b[0m             \u001b[1;31m# extra_args > 0\u001b[0m\u001b[1;33m\u001b[0m\u001b[1;33m\u001b[0m\u001b[0m\n",
      "\u001b[1;32m~\\anaconda3\\lib\\site-packages\\sklearn\\metrics\\_regression.py\u001b[0m in \u001b[0;36mmean_absolute_percentage_error\u001b[1;34m(y_true, y_pred, sample_weight, multioutput)\u001b[0m\n\u001b[0;32m    359\u001b[0m     \u001b[1;36m112589990684262.48\u001b[0m\u001b[1;33m\u001b[0m\u001b[1;33m\u001b[0m\u001b[0m\n\u001b[0;32m    360\u001b[0m     \"\"\"\n\u001b[1;32m--> 361\u001b[1;33m     y_type, y_true, y_pred, multioutput = _check_reg_targets(\n\u001b[0m\u001b[0;32m    362\u001b[0m         \u001b[0my_true\u001b[0m\u001b[1;33m,\u001b[0m \u001b[0my_pred\u001b[0m\u001b[1;33m,\u001b[0m \u001b[0mmultioutput\u001b[0m\u001b[1;33m\u001b[0m\u001b[1;33m\u001b[0m\u001b[0m\n\u001b[0;32m    363\u001b[0m     )\n",
      "\u001b[1;32m~\\anaconda3\\lib\\site-packages\\sklearn\\metrics\\_regression.py\u001b[0m in \u001b[0;36m_check_reg_targets\u001b[1;34m(y_true, y_pred, multioutput, dtype)\u001b[0m\n\u001b[0;32m     94\u001b[0m     \u001b[0mcheck_consistent_length\u001b[0m\u001b[1;33m(\u001b[0m\u001b[0my_true\u001b[0m\u001b[1;33m,\u001b[0m \u001b[0my_pred\u001b[0m\u001b[1;33m)\u001b[0m\u001b[1;33m\u001b[0m\u001b[1;33m\u001b[0m\u001b[0m\n\u001b[0;32m     95\u001b[0m     \u001b[0my_true\u001b[0m \u001b[1;33m=\u001b[0m \u001b[0mcheck_array\u001b[0m\u001b[1;33m(\u001b[0m\u001b[0my_true\u001b[0m\u001b[1;33m,\u001b[0m \u001b[0mensure_2d\u001b[0m\u001b[1;33m=\u001b[0m\u001b[1;32mFalse\u001b[0m\u001b[1;33m,\u001b[0m \u001b[0mdtype\u001b[0m\u001b[1;33m=\u001b[0m\u001b[0mdtype\u001b[0m\u001b[1;33m)\u001b[0m\u001b[1;33m\u001b[0m\u001b[1;33m\u001b[0m\u001b[0m\n\u001b[1;32m---> 96\u001b[1;33m     \u001b[0my_pred\u001b[0m \u001b[1;33m=\u001b[0m \u001b[0mcheck_array\u001b[0m\u001b[1;33m(\u001b[0m\u001b[0my_pred\u001b[0m\u001b[1;33m,\u001b[0m \u001b[0mensure_2d\u001b[0m\u001b[1;33m=\u001b[0m\u001b[1;32mFalse\u001b[0m\u001b[1;33m,\u001b[0m \u001b[0mdtype\u001b[0m\u001b[1;33m=\u001b[0m\u001b[0mdtype\u001b[0m\u001b[1;33m)\u001b[0m\u001b[1;33m\u001b[0m\u001b[1;33m\u001b[0m\u001b[0m\n\u001b[0m\u001b[0;32m     97\u001b[0m \u001b[1;33m\u001b[0m\u001b[0m\n\u001b[0;32m     98\u001b[0m     \u001b[1;32mif\u001b[0m \u001b[0my_true\u001b[0m\u001b[1;33m.\u001b[0m\u001b[0mndim\u001b[0m \u001b[1;33m==\u001b[0m \u001b[1;36m1\u001b[0m\u001b[1;33m:\u001b[0m\u001b[1;33m\u001b[0m\u001b[1;33m\u001b[0m\u001b[0m\n",
      "\u001b[1;32m~\\anaconda3\\lib\\site-packages\\sklearn\\utils\\validation.py\u001b[0m in \u001b[0;36mcheck_array\u001b[1;34m(array, accept_sparse, accept_large_sparse, dtype, order, copy, force_all_finite, ensure_2d, allow_nd, ensure_min_samples, ensure_min_features, estimator)\u001b[0m\n\u001b[0;32m    798\u001b[0m \u001b[1;33m\u001b[0m\u001b[0m\n\u001b[0;32m    799\u001b[0m         \u001b[1;32mif\u001b[0m \u001b[0mforce_all_finite\u001b[0m\u001b[1;33m:\u001b[0m\u001b[1;33m\u001b[0m\u001b[1;33m\u001b[0m\u001b[0m\n\u001b[1;32m--> 800\u001b[1;33m             \u001b[0m_assert_all_finite\u001b[0m\u001b[1;33m(\u001b[0m\u001b[0marray\u001b[0m\u001b[1;33m,\u001b[0m \u001b[0mallow_nan\u001b[0m\u001b[1;33m=\u001b[0m\u001b[0mforce_all_finite\u001b[0m \u001b[1;33m==\u001b[0m \u001b[1;34m\"allow-nan\"\u001b[0m\u001b[1;33m)\u001b[0m\u001b[1;33m\u001b[0m\u001b[1;33m\u001b[0m\u001b[0m\n\u001b[0m\u001b[0;32m    801\u001b[0m \u001b[1;33m\u001b[0m\u001b[0m\n\u001b[0;32m    802\u001b[0m     \u001b[1;32mif\u001b[0m \u001b[0mensure_min_samples\u001b[0m \u001b[1;33m>\u001b[0m \u001b[1;36m0\u001b[0m\u001b[1;33m:\u001b[0m\u001b[1;33m\u001b[0m\u001b[1;33m\u001b[0m\u001b[0m\n",
      "\u001b[1;32m~\\anaconda3\\lib\\site-packages\\sklearn\\utils\\validation.py\u001b[0m in \u001b[0;36m_assert_all_finite\u001b[1;34m(X, allow_nan, msg_dtype)\u001b[0m\n\u001b[0;32m    112\u001b[0m         ):\n\u001b[0;32m    113\u001b[0m             \u001b[0mtype_err\u001b[0m \u001b[1;33m=\u001b[0m \u001b[1;34m\"infinity\"\u001b[0m \u001b[1;32mif\u001b[0m \u001b[0mallow_nan\u001b[0m \u001b[1;32melse\u001b[0m \u001b[1;34m\"NaN, infinity\"\u001b[0m\u001b[1;33m\u001b[0m\u001b[1;33m\u001b[0m\u001b[0m\n\u001b[1;32m--> 114\u001b[1;33m             raise ValueError(\n\u001b[0m\u001b[0;32m    115\u001b[0m                 msg_err.format(\n\u001b[0;32m    116\u001b[0m                     \u001b[0mtype_err\u001b[0m\u001b[1;33m,\u001b[0m \u001b[0mmsg_dtype\u001b[0m \u001b[1;32mif\u001b[0m \u001b[0mmsg_dtype\u001b[0m \u001b[1;32mis\u001b[0m \u001b[1;32mnot\u001b[0m \u001b[1;32mNone\u001b[0m \u001b[1;32melse\u001b[0m \u001b[0mX\u001b[0m\u001b[1;33m.\u001b[0m\u001b[0mdtype\u001b[0m\u001b[1;33m\u001b[0m\u001b[1;33m\u001b[0m\u001b[0m\n",
      "\u001b[1;31mValueError\u001b[0m: Input contains NaN, infinity or a value too large for dtype('float64')."
     ]
    }
   ],
   "source": [
    "df_metrics = compute_metrics(model, scaler, val_data.values, y_pred)\n",
    "df_metrics"
   ]
  },
  {
   "cell_type": "markdown",
   "id": "f60c0600",
   "metadata": {},
   "source": [
    "* Save results"
   ]
  },
  {
   "cell_type": "code",
   "execution_count": 522,
   "id": "fe6c7b3a",
   "metadata": {
    "ExecuteTime": {
     "end_time": "2025-02-15T10:23:29.094120Z",
     "start_time": "2025-02-15T10:23:28.457870Z"
    }
   },
   "outputs": [
    {
     "name": "stdout",
     "output_type": "stream",
     "text": [
      "Metrics saved to ../models/log/metrics_results.csv\n",
      "Plot saved to ../reports/results/_5_ARIMAModel.png\n"
     ]
    },
    {
     "data": {
      "text/html": [
       "<div>\n",
       "<style scoped>\n",
       "    .dataframe tbody tr th:only-of-type {\n",
       "        vertical-align: middle;\n",
       "    }\n",
       "\n",
       "    .dataframe tbody tr th {\n",
       "        vertical-align: top;\n",
       "    }\n",
       "\n",
       "    .dataframe thead th {\n",
       "        text-align: right;\n",
       "    }\n",
       "</style>\n",
       "<table border=\"1\" class=\"dataframe\">\n",
       "  <thead>\n",
       "    <tr style=\"text-align: right;\">\n",
       "      <th></th>\n",
       "      <th>Model</th>\n",
       "      <th>Scaler</th>\n",
       "      <th>Params</th>\n",
       "      <th>MAPE</th>\n",
       "      <th>RMSE</th>\n",
       "      <th>R2 Score</th>\n",
       "      <th>Execution Date</th>\n",
       "    </tr>\n",
       "  </thead>\n",
       "  <tbody>\n",
       "    <tr>\n",
       "      <th>0</th>\n",
       "      <td>ARIMAModel</td>\n",
       "      <td>StandardScaler</td>\n",
       "      <td>(0, 1, 3)</td>\n",
       "      <td>0.338293</td>\n",
       "      <td>3.982606</td>\n",
       "      <td>-0.055332</td>\n",
       "      <td>15-02-2025</td>\n",
       "    </tr>\n",
       "    <tr>\n",
       "      <th>1</th>\n",
       "      <td>SARIMAModel</td>\n",
       "      <td>StandardScaler</td>\n",
       "      <td>(3, 0, 1)</td>\n",
       "      <td>0.346660</td>\n",
       "      <td>3.890336</td>\n",
       "      <td>0.035631</td>\n",
       "      <td>15-02-2025</td>\n",
       "    </tr>\n",
       "    <tr>\n",
       "      <th>2</th>\n",
       "      <td>ARIMAModel</td>\n",
       "      <td>MinMaxScaler</td>\n",
       "      <td>(0, 1, 3)</td>\n",
       "      <td>0.338292</td>\n",
       "      <td>3.982621</td>\n",
       "      <td>-0.055340</td>\n",
       "      <td>15-02-2025</td>\n",
       "    </tr>\n",
       "    <tr>\n",
       "      <th>3</th>\n",
       "      <td>ARIMAModel</td>\n",
       "      <td>MinMaxScaler</td>\n",
       "      <td>(1, 0, 3)</td>\n",
       "      <td>0.350286</td>\n",
       "      <td>3.891061</td>\n",
       "      <td>0.046005</td>\n",
       "      <td>15-02-2025</td>\n",
       "    </tr>\n",
       "    <tr>\n",
       "      <th>4</th>\n",
       "      <td>ARIMAModel</td>\n",
       "      <td>StandardScaler</td>\n",
       "      <td>(3, 0, 1)</td>\n",
       "      <td>0.346660</td>\n",
       "      <td>3.890336</td>\n",
       "      <td>0.035631</td>\n",
       "      <td>15-02-2025</td>\n",
       "    </tr>\n",
       "    <tr>\n",
       "      <th>5</th>\n",
       "      <td>ARIMAModel</td>\n",
       "      <td>NoneType</td>\n",
       "      <td>(1, 0, 3)</td>\n",
       "      <td>0.346660</td>\n",
       "      <td>3.890336</td>\n",
       "      <td>0.035631</td>\n",
       "      <td>15-02-2025</td>\n",
       "    </tr>\n",
       "  </tbody>\n",
       "</table>\n",
       "</div>"
      ],
      "text/plain": [
       "         Model          Scaler     Params      MAPE      RMSE  R2 Score  \\\n",
       "0   ARIMAModel  StandardScaler  (0, 1, 3)  0.338293  3.982606 -0.055332   \n",
       "1  SARIMAModel  StandardScaler  (3, 0, 1)  0.346660  3.890336  0.035631   \n",
       "2   ARIMAModel    MinMaxScaler  (0, 1, 3)  0.338292  3.982621 -0.055340   \n",
       "3   ARIMAModel    MinMaxScaler  (1, 0, 3)  0.350286  3.891061  0.046005   \n",
       "4   ARIMAModel  StandardScaler  (3, 0, 1)  0.346660  3.890336  0.035631   \n",
       "5   ARIMAModel        NoneType  (1, 0, 3)  0.346660  3.890336  0.035631   \n",
       "\n",
       "  Execution Date  \n",
       "0     15-02-2025  \n",
       "1     15-02-2025  \n",
       "2     15-02-2025  \n",
       "3     15-02-2025  \n",
       "4     15-02-2025  \n",
       "5     15-02-2025  "
      ]
     },
     "execution_count": 522,
     "metadata": {},
     "output_type": "execute_result"
    }
   ],
   "source": [
    "# Save metrics\n",
    "index = save_metrics_to_csv(df_metrics, LOG_RESULTS)\n",
    "# Save plot\n",
    "plot_forecast(train_data, val_data, y_pred, model, index=index, conf_int=conf_int)\n",
    "pd.read_csv(LOG_RESULTS)"
   ]
  },
  {
   "cell_type": "code",
   "execution_count": null,
   "id": "959b3203",
   "metadata": {},
   "outputs": [],
   "source": []
  }
 ],
 "metadata": {
  "kernelspec": {
   "display_name": "Python 3 (ipykernel)",
   "language": "python",
   "name": "python3"
  },
  "language_info": {
   "codemirror_mode": {
    "name": "ipython",
    "version": 3
   },
   "file_extension": ".py",
   "mimetype": "text/x-python",
   "name": "python",
   "nbconvert_exporter": "python",
   "pygments_lexer": "ipython3",
   "version": "3.9.13"
  },
  "toc": {
   "base_numbering": 1,
   "nav_menu": {},
   "number_sections": true,
   "sideBar": true,
   "skip_h1_title": false,
   "title_cell": "Table of Contents",
   "title_sidebar": "Contents",
   "toc_cell": false,
   "toc_position": {
    "height": "calc(100% - 180px)",
    "left": "10px",
    "top": "150px",
    "width": "369px"
   },
   "toc_section_display": true,
   "toc_window_display": true
  }
 },
 "nbformat": 4,
 "nbformat_minor": 5
}
