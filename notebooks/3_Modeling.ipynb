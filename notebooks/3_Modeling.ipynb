{
 "cells": [
  {
   "cell_type": "code",
   "execution_count": 15,
   "id": "e600bef8",
   "metadata": {
    "ExecuteTime": {
     "end_time": "2025-02-14T07:03:46.095688Z",
     "start_time": "2025-02-14T07:03:41.946499Z"
    }
   },
   "outputs": [
    {
     "name": "stdout",
     "output_type": "stream",
     "text": [
      "Requirement already satisfied: pmdarima in c:\\users\\admin\\anaconda3\\lib\\site-packages (2.0.4)\n",
      "Requirement already satisfied: numpy>=1.21.2 in c:\\users\\admin\\anaconda3\\lib\\site-packages (from pmdarima) (1.24.4)\n",
      "Requirement already satisfied: pandas>=0.19 in c:\\users\\admin\\anaconda3\\lib\\site-packages (from pmdarima) (2.2.3)\n",
      "Requirement already satisfied: setuptools!=50.0.0,>=38.6.0 in c:\\users\\admin\\anaconda3\\lib\\site-packages (from pmdarima) (63.4.1)\n",
      "Requirement already satisfied: urllib3 in c:\\users\\admin\\anaconda3\\lib\\site-packages (from pmdarima) (1.26.11)\n",
      "Requirement already satisfied: packaging>=17.1 in c:\\users\\admin\\anaconda3\\lib\\site-packages (from pmdarima) (23.2)\n",
      "Requirement already satisfied: statsmodels>=0.13.2 in c:\\users\\admin\\anaconda3\\lib\\site-packages (from pmdarima) (0.13.2)\n",
      "Requirement already satisfied: scipy>=1.3.2 in c:\\users\\admin\\anaconda3\\lib\\site-packages (from pmdarima) (1.9.1)\n",
      "Requirement already satisfied: joblib>=0.11 in c:\\users\\admin\\anaconda3\\lib\\site-packages (from pmdarima) (1.4.2)\n",
      "Requirement already satisfied: scikit-learn>=0.22 in c:\\users\\admin\\anaconda3\\lib\\site-packages (from pmdarima) (1.0.2)\n",
      "Requirement already satisfied: Cython!=0.29.18,!=0.29.31,>=0.29 in c:\\users\\admin\\anaconda3\\lib\\site-packages (from pmdarima) (0.29.32)\n",
      "Requirement already satisfied: python-dateutil>=2.8.2 in c:\\users\\admin\\anaconda3\\lib\\site-packages (from pandas>=0.19->pmdarima) (2.8.2)\n",
      "Requirement already satisfied: pytz>=2020.1 in c:\\users\\admin\\anaconda3\\lib\\site-packages (from pandas>=0.19->pmdarima) (2022.1)\n",
      "Requirement already satisfied: tzdata>=2022.7 in c:\\users\\admin\\anaconda3\\lib\\site-packages (from pandas>=0.19->pmdarima) (2024.2)\n",
      "Requirement already satisfied: threadpoolctl>=2.0.0 in c:\\users\\admin\\anaconda3\\lib\\site-packages (from scikit-learn>=0.22->pmdarima) (2.2.0)\n",
      "Requirement already satisfied: patsy>=0.5.2 in c:\\users\\admin\\anaconda3\\lib\\site-packages (from statsmodels>=0.13.2->pmdarima) (0.5.2)\n",
      "Requirement already satisfied: six in c:\\users\\admin\\anaconda3\\lib\\site-packages (from patsy>=0.5.2->statsmodels>=0.13.2->pmdarima) (1.16.0)\n",
      "Note: you may need to restart the kernel to use updated packages.\n"
     ]
    },
    {
     "name": "stderr",
     "output_type": "stream",
     "text": [
      "WARNING: Ignoring invalid distribution -umpy (c:\\users\\admin\\anaconda3\\lib\\site-packages)\n",
      "WARNING: Ignoring invalid distribution -umpy (c:\\users\\admin\\anaconda3\\lib\\site-packages)\n",
      "WARNING: Ignoring invalid distribution -umpy (c:\\users\\admin\\anaconda3\\lib\\site-packages)\n",
      "WARNING: Ignoring invalid distribution -umpy (c:\\users\\admin\\anaconda3\\lib\\site-packages)\n",
      "WARNING: Ignoring invalid distribution -umpy (c:\\users\\admin\\anaconda3\\lib\\site-packages)\n",
      "WARNING: Ignoring invalid distribution -umpy (c:\\users\\admin\\anaconda3\\lib\\site-packages)\n"
     ]
    }
   ],
   "source": [
    "%pip install torch\n",
    "%pip install pmdarima"
   ]
  },
  {
   "cell_type": "code",
   "execution_count": 1,
   "id": "345b3016",
   "metadata": {
    "ExecuteTime": {
     "end_time": "2025-02-14T06:35:31.434100Z",
     "start_time": "2025-02-14T06:35:31.418208Z"
    }
   },
   "outputs": [],
   "source": [
    "DATA_TRAIN_PROCESSED = '../data/prepocessed/train.csv'"
   ]
  },
  {
   "cell_type": "markdown",
   "id": "9cc375e0",
   "metadata": {},
   "source": [
    "# Import"
   ]
  },
  {
   "cell_type": "code",
   "execution_count": 4,
   "id": "f3489e00",
   "metadata": {
    "ExecuteTime": {
     "end_time": "2025-02-14T06:41:34.009577Z",
     "start_time": "2025-02-14T06:41:34.001130Z"
    }
   },
   "outputs": [],
   "source": [
    "import numpy as np\n",
    "import pandas as pd\n",
    "import matplotlib.pyplot as plt\n",
    "import seaborn as sns"
   ]
  },
  {
   "cell_type": "code",
   "execution_count": 16,
   "id": "5f16503e",
   "metadata": {
    "ExecuteTime": {
     "end_time": "2025-02-14T07:03:51.759660Z",
     "start_time": "2025-02-14T07:03:51.178790Z"
    }
   },
   "outputs": [],
   "source": [
    "from statsmodels.tsa.forecasting.theta import ThetaModel\n",
    "from statsmodels.tsa.arima.model import ARIMA\n",
    "from statsmodels.tsa.statespace.sarimax import SARIMAX\n",
    "from pmdarima import auto_arima\n",
    "\n",
    "from sklearn.linear_model import LinearRegression\n",
    "import xgboost as xgb\n",
    "\n",
    "\n",
    "from sklearn.preprocessing import MinMaxScaler, StandardScaler\n",
    "\n",
    "import torch\n",
    "import torch.nn as nn"
   ]
  },
  {
   "cell_type": "markdown",
   "id": "a3820e24",
   "metadata": {},
   "source": [
    "# Define"
   ]
  },
  {
   "cell_type": "markdown",
   "id": "ddf74b05",
   "metadata": {},
   "source": [
    "## Preprocessing"
   ]
  },
  {
   "cell_type": "code",
   "execution_count": 17,
   "id": "3e5829bc",
   "metadata": {
    "ExecuteTime": {
     "end_time": "2025-02-14T07:09:16.442783Z",
     "start_time": "2025-02-14T07:09:16.432636Z"
    }
   },
   "outputs": [],
   "source": [
    "def normalize_data(data, method=\"minmax\"):\n",
    "    \"\"\"Chuẩn hóa dữ liệu theo phương pháp MinMax hoặc StandardScaler.\"\"\"\n",
    "    if method == \"minmax\":\n",
    "        scaler = MinMaxScaler(feature_range=(0, 1))\n",
    "    elif method == \"standard\":\n",
    "        scaler = StandardScaler()\n",
    "    else:\n",
    "        return data, None\n",
    "\n",
    "    data_scaled = scaler.fit_transform(np.array(data).reshape(-1, 1))\n",
    "    return data_scaled, scaler\n",
    "\n",
    "\n",
    "def create_sequences(data, lookback):\n",
    "    \"\"\"Tạo dữ liệu theo dạng (X, y) cho các model dùng sliding window.\"\"\"\n",
    "    X, y = [], []\n",
    "    for i in range(len(data) - lookback):\n",
    "        X.append(data[i:i+lookback])\n",
    "        y.append(data[i+lookback])\n",
    "    return np.array(X), np.array(y)"
   ]
  },
  {
   "cell_type": "markdown",
   "id": "38a7568d",
   "metadata": {},
   "source": [
    "## Model"
   ]
  },
  {
   "cell_type": "code",
   "execution_count": 18,
   "id": "1f43e5b9",
   "metadata": {
    "ExecuteTime": {
     "end_time": "2025-02-14T07:10:02.170005Z",
     "start_time": "2025-02-14T07:10:02.157716Z"
    }
   },
   "outputs": [],
   "source": [
    "class LSTMModel(nn.Module):\n",
    "    def __init__(self, input_dim, hidden_dim, num_layers, output_dim):\n",
    "        super(LSTMModel, self).__init__()\n",
    "        self.lstm = nn.LSTM(input_dim, hidden_dim, num_layers, batch_first=True)\n",
    "        self.fc = nn.Linear(hidden_dim, output_dim)\n",
    "\n",
    "    def forward(self, x):\n",
    "        lstm_out, _ = self.lstm(x)\n",
    "        return self.fc(lstm_out[:, -1, :])"
   ]
  },
  {
   "cell_type": "code",
   "execution_count": 19,
   "id": "cc74a457",
   "metadata": {
    "ExecuteTime": {
     "end_time": "2025-02-14T07:10:04.094964Z",
     "start_time": "2025-02-14T07:10:04.084378Z"
    }
   },
   "outputs": [],
   "source": [
    "def train_lstm(X_train, y_train, epochs=50):\n",
    "    \"\"\"Huấn luyện mô hình LSTM.\"\"\"\n",
    "    model = LSTMModel(input_dim=1, hidden_dim=50, num_layers=2, output_dim=1)\n",
    "    criterion = nn.MSELoss()\n",
    "    optimizer = torch.optim.Adam(model.parameters(), lr=0.001)\n",
    "\n",
    "    X_train, y_train = torch.tensor(X_train, dtype=torch.float32), torch.tensor(y_train, dtype=torch.float32)\n",
    "\n",
    "    for epoch in range(epochs):\n",
    "        optimizer.zero_grad()\n",
    "        output = model(X_train)\n",
    "        loss = criterion(output, y_train)\n",
    "        loss.backward()\n",
    "        optimizer.step()\n",
    "\n",
    "    return model"
   ]
  },
  {
   "cell_type": "code",
   "execution_count": 25,
   "id": "4a4b90a2",
   "metadata": {
    "ExecuteTime": {
     "end_time": "2025-02-14T07:13:25.786562Z",
     "start_time": "2025-02-14T07:13:25.779459Z"
    }
   },
   "outputs": [],
   "source": [
    "def train_arima(train_data):\n",
    "    \"\"\"Huấn luyện mô hình ARIMA.\"\"\"\n",
    "    model = auto_arima(train_data, seasonal=False, stepwise=True, suppress_warnings=True, trace=True)\n",
    "    return model\n",
    "\n",
    "def train_sarima(train_data, seasonality=12):\n",
    "    \"\"\"Huấn luyện mô hình SARIMA (có yếu tố mùa vụ).\"\"\"\n",
    "    model = auto_arima(train_data, seasonal=True, m=seasonality, stepwise=True, suppress_warnings=True, trace=True)\n",
    "    return model"
   ]
  },
  {
   "cell_type": "code",
   "execution_count": 21,
   "id": "0dcaf347",
   "metadata": {
    "ExecuteTime": {
     "end_time": "2025-02-14T07:10:17.985762Z",
     "start_time": "2025-02-14T07:10:17.977614Z"
    }
   },
   "outputs": [],
   "source": [
    "def train_theta(train_data, seasonality=12):\n",
    "    \"\"\"Huấn luyện mô hình Theta.\"\"\"\n",
    "    return ThetaModel(train_data, period=seasonality).fit()"
   ]
  },
  {
   "cell_type": "code",
   "execution_count": 22,
   "id": "f36ba726",
   "metadata": {
    "ExecuteTime": {
     "end_time": "2025-02-14T07:10:25.725390Z",
     "start_time": "2025-02-14T07:10:25.716794Z"
    }
   },
   "outputs": [],
   "source": [
    "def train_xgboost(X_train, y_train):\n",
    "    \"\"\"Huấn luyện mô hình XGBoost.\"\"\"\n",
    "    model = xgb.XGBRegressor(objective=\"reg:squarederror\", n_estimators=100)\n",
    "    model.fit(X_train.reshape(X_train.shape[0], -1), y_train)\n",
    "    return model"
   ]
  },
  {
   "cell_type": "code",
   "execution_count": 23,
   "id": "5853a9cc",
   "metadata": {
    "ExecuteTime": {
     "end_time": "2025-02-14T07:10:34.448417Z",
     "start_time": "2025-02-14T07:10:34.440300Z"
    }
   },
   "outputs": [],
   "source": [
    "def train_linear(X_train, y_train):\n",
    "    \"\"\"Huấn luyện mô hình Linear Regression.\"\"\"\n",
    "    model = LinearRegression()\n",
    "    model.fit(X_train.reshape(X_train.shape[0], -1), y_train)\n",
    "    return model"
   ]
  },
  {
   "cell_type": "markdown",
   "id": "a989074c",
   "metadata": {},
   "source": [
    "## Pipeline"
   ]
  },
  {
   "cell_type": "code",
   "execution_count": 41,
   "id": "9335e7ce",
   "metadata": {
    "ExecuteTime": {
     "end_time": "2025-02-14T07:24:40.504949Z",
     "start_time": "2025-02-14T07:24:40.490732Z"
    }
   },
   "outputs": [],
   "source": [
    "def forecast_pipeline(data, model_type=\"LSTM\", normalize=\"minmax\", lookback=10, **kwargs):\n",
    "    \"\"\"\n",
    "    Pipeline huấn luyện và dự báo chuỗi thời gian với nhiều model.\n",
    "    \n",
    "    Parameters:\n",
    "        - data: pd.Series (chuỗi thời gian)\n",
    "        - model_type: str ([\"LSTM\", \"ARIMA\", \"SARIMA\", \"Theta\", \"XGBoost\", \"Linear\"])\n",
    "        - normalize: str ([\"minmax\", \"standard\", \"none\"])\n",
    "        - lookback: int (số bước nhìn lại cho mô hình LSTM, XGBoost, Linear Regression)\n",
    "        - kwargs: Các tham số bổ sung cho từng loại model\n",
    "            + seasonality: chỉ yêu cầu cho SARIMA và Theta\n",
    "    \"\"\"\n",
    "    # ________________________________________ CHECK INPUT _______________________________________ #\n",
    "    if not isinstance(data, pd.DataFrame) or \"Date\" not in data.columns or \"temperatures\" not in data.columns:\n",
    "        raise ValueError(\"Input data must be a DataFrame with columns ['Date', 'temperatures']\")\n",
    "\n",
    "    # Chuyển cột Date thành datetime nếu chưa đúng định dạng\n",
    "    data[\"Date\"] = pd.to_datetime(data[\"Date\"])\n",
    "    data.set_index(\"Date\", inplace=True)\n",
    "    #_________________________________________PREPROCESS_______________________________________#\n",
    "    \n",
    "    data_scaled, scaler = normalize_data(data, method=normalize)\n",
    "    split_idx = int(len(data) * 0.8)\n",
    "    train_data, test_data = data_scaled[:split_idx], data_scaled[split_idx:]\n",
    "\n",
    "    if model_type in [\"LSTM\", \"XGBoost\", \"Linear\"]:\n",
    "        X_train, y_train = create_sequences(train_data, lookback)\n",
    "        X_test, y_test = create_sequences(test_data, lookback)\n",
    "\n",
    "    #_________________________________________TRAIN MODEL______________________________________#\n",
    "    conf_int = None  \n",
    "    if model_type == \"LSTM\":\n",
    "        model = train_lstm(X_train, y_train)\n",
    "        X_test = torch.tensor(X_test, dtype=torch.float32)\n",
    "        with torch.no_grad():\n",
    "            y_pred = model(X_test).numpy()\n",
    "\n",
    "    elif model_type == \"ARIMA\":\n",
    "        model = train_arima(train_data)\n",
    "        forecast_result = model.predict(n_periods=len(test_data), return_conf_int=True)\n",
    "        y_pred, conf_int = forecast_result[0], forecast_result[1]\n",
    "\n",
    "    elif model_type == \"SARIMA\":\n",
    "        if \"seasonality\" not in kwargs:\n",
    "            raise ValueError(\"SARIMA requires 'seasonality' parameter.\")\n",
    "        model = train_sarima(train_data, seasonality=kwargs[\"seasonality\"])\n",
    "        forecast_result = model.predict(n_periods=len(test_data), return_conf_int=True)\n",
    "        y_pred, conf_int = forecast_result[0], forecast_result[1]\n",
    "\n",
    "    elif model_type == \"Theta\":\n",
    "        if \"seasonality\" not in kwargs:\n",
    "            raise ValueError(\"Theta model requires 'seasonality' parameter.\")\n",
    "        model = train_theta(train_data, seasonality=kwargs[\"seasonality\"])\n",
    "        y_pred = model.forecast(steps=len(test_data), return_conf_int=True)\n",
    "        conf_int = y_pred.conf_int()\n",
    "\n",
    "    elif model_type == \"XGBoost\":\n",
    "        model = train_xgboost(X_train, y_train)\n",
    "        y_pred = model.predict(X_test.reshape(X_test.shape[0], -1))\n",
    "\n",
    "    elif model_type == \"Linear\":\n",
    "        model = train_linear(X_train, y_train)\n",
    "        y_pred = model.predict(X_test.reshape(X_test.shape[0], -1))\n",
    "\n",
    "    else:\n",
    "        raise ValueError(\"Unsupported model type. Choose from ['LSTM', 'ARIMA', 'SARIMA', 'Theta', 'XGBoost', 'Linear'].\")\n",
    "\n",
    "    #_____________________________________EVALUATE___________________________________________#\n",
    "    if scaler:\n",
    "        y_pred_actual = scaler.inverse_transform(y_pred.reshape(-1, 1))\n",
    "        y_test_actual = scaler.inverse_transform(test_data[:len(y_pred)].reshape(-1, 1))\n",
    "        if conf_int is not None:\n",
    "            lower_bound = scaler.inverse_transform(conf_int[:, 0].reshape(-1, 1))\n",
    "            upper_bound = scaler.inverse_transform(conf_int[:, 1].reshape(-1, 1))\n",
    "            conf_int = (lower_bound, upper_bound)\n",
    "    else:\n",
    "        y_pred_actual, y_test_actual = y_pred, test_data[:len(y_pred)]\n",
    "    \n",
    "    plot_forecast(y_test_actual, y_pred_actual, model_type, normalize, conf_int)"
   ]
  },
  {
   "cell_type": "code",
   "execution_count": 35,
   "id": "2d08bf7e",
   "metadata": {
    "ExecuteTime": {
     "end_time": "2025-02-14T07:23:50.335573Z",
     "start_time": "2025-02-14T07:23:50.327363Z"
    }
   },
   "outputs": [],
   "source": [
    "def plot_forecast(y_test_actual, y_pred_actual, model_type, normalize, conf_int=None):\n",
    "    \"\"\"\n",
    "    Vẽ biểu đồ dự báo chuỗi thời gian kèm vùng tin cậy nếu có.\n",
    "    \n",
    "    Parameters:\n",
    "        - y_test_actual: Giá trị thực tế\n",
    "        - y_pred_actual: Giá trị dự báo\n",
    "        - model_type: Tên mô hình\n",
    "        - normalize: Loại chuẩn hóa\n",
    "        - conf_int: Tuple (lower_bound, upper_bound) cho vùng tin cậy\n",
    "    \"\"\"\n",
    "    plt.figure(figsize=(12, 6))\n",
    "    \n",
    "    # Vẽ giá trị thực tế\n",
    "    plt.plot(y_test_actual, label=\"Actual\", color='blue')\n",
    "    \n",
    "    # Vẽ giá trị dự báo\n",
    "    plt.plot(y_pred_actual, label=\"Predicted\", color='red', linestyle='dashed')\n",
    "    \n",
    "    # Vẽ vùng tin cậy (nếu có)\n",
    "    if conf_int is not None:\n",
    "        lower_bound, upper_bound = conf_int\n",
    "        plt.fill_between(range(len(y_pred_actual)), lower_bound, upper_bound, color='pink', alpha=0.3, label=\"Confidence Interval\")\n",
    "    \n",
    "    plt.xlabel(\"Time\")\n",
    "    plt.ylabel(\"Value\")\n",
    "    plt.legend()\n",
    "    plt.title(f\"Forecasting with {model_type} (Normalization: {normalize})\")\n",
    "    plt.show()"
   ]
  },
  {
   "cell_type": "markdown",
   "id": "8b897972",
   "metadata": {},
   "source": [
    "# Run"
   ]
  },
  {
   "cell_type": "code",
   "execution_count": 36,
   "id": "b962c858",
   "metadata": {
    "ExecuteTime": {
     "end_time": "2025-02-14T07:23:51.277377Z",
     "start_time": "2025-02-14T07:23:51.264339Z"
    }
   },
   "outputs": [],
   "source": [
    "data = pd.read_csv(DATA_TRAIN_PROCESSED)"
   ]
  },
  {
   "cell_type": "code",
   "execution_count": 39,
   "id": "31bf37b7",
   "metadata": {
    "ExecuteTime": {
     "end_time": "2025-02-14T07:24:05.017766Z",
     "start_time": "2025-02-14T07:24:05.000848Z"
    }
   },
   "outputs": [
    {
     "data": {
      "text/html": [
       "<div>\n",
       "<style scoped>\n",
       "    .dataframe tbody tr th:only-of-type {\n",
       "        vertical-align: middle;\n",
       "    }\n",
       "\n",
       "    .dataframe tbody tr th {\n",
       "        vertical-align: top;\n",
       "    }\n",
       "\n",
       "    .dataframe thead th {\n",
       "        text-align: right;\n",
       "    }\n",
       "</style>\n",
       "<table border=\"1\" class=\"dataframe\">\n",
       "  <thead>\n",
       "    <tr style=\"text-align: right;\">\n",
       "      <th></th>\n",
       "      <th>Date</th>\n",
       "      <th>temperatures</th>\n",
       "    </tr>\n",
       "  </thead>\n",
       "  <tbody>\n",
       "    <tr>\n",
       "      <th>0</th>\n",
       "      <td>1981-01-01</td>\n",
       "      <td>20.7</td>\n",
       "    </tr>\n",
       "    <tr>\n",
       "      <th>1</th>\n",
       "      <td>1981-01-02</td>\n",
       "      <td>17.9</td>\n",
       "    </tr>\n",
       "    <tr>\n",
       "      <th>2</th>\n",
       "      <td>1981-01-03</td>\n",
       "      <td>18.8</td>\n",
       "    </tr>\n",
       "    <tr>\n",
       "      <th>3</th>\n",
       "      <td>1981-01-04</td>\n",
       "      <td>14.6</td>\n",
       "    </tr>\n",
       "    <tr>\n",
       "      <th>4</th>\n",
       "      <td>1981-01-05</td>\n",
       "      <td>15.8</td>\n",
       "    </tr>\n",
       "    <tr>\n",
       "      <th>...</th>\n",
       "      <td>...</td>\n",
       "      <td>...</td>\n",
       "    </tr>\n",
       "    <tr>\n",
       "      <th>2915</th>\n",
       "      <td>1988-12-26</td>\n",
       "      <td>9.5</td>\n",
       "    </tr>\n",
       "    <tr>\n",
       "      <th>2916</th>\n",
       "      <td>1988-12-27</td>\n",
       "      <td>12.9</td>\n",
       "    </tr>\n",
       "    <tr>\n",
       "      <th>2917</th>\n",
       "      <td>1988-12-28</td>\n",
       "      <td>12.9</td>\n",
       "    </tr>\n",
       "    <tr>\n",
       "      <th>2918</th>\n",
       "      <td>1988-12-29</td>\n",
       "      <td>14.8</td>\n",
       "    </tr>\n",
       "    <tr>\n",
       "      <th>2919</th>\n",
       "      <td>1988-12-30</td>\n",
       "      <td>14.1</td>\n",
       "    </tr>\n",
       "  </tbody>\n",
       "</table>\n",
       "<p>2920 rows × 2 columns</p>\n",
       "</div>"
      ],
      "text/plain": [
       "            Date  temperatures\n",
       "0     1981-01-01          20.7\n",
       "1     1981-01-02          17.9\n",
       "2     1981-01-03          18.8\n",
       "3     1981-01-04          14.6\n",
       "4     1981-01-05          15.8\n",
       "...          ...           ...\n",
       "2915  1988-12-26           9.5\n",
       "2916  1988-12-27          12.9\n",
       "2917  1988-12-28          12.9\n",
       "2918  1988-12-29          14.8\n",
       "2919  1988-12-30          14.1\n",
       "\n",
       "[2920 rows x 2 columns]"
      ]
     },
     "execution_count": 39,
     "metadata": {},
     "output_type": "execute_result"
    }
   ],
   "source": [
    "data"
   ]
  },
  {
   "cell_type": "code",
   "execution_count": 42,
   "id": "e6edc2e1",
   "metadata": {
    "ExecuteTime": {
     "end_time": "2025-02-14T07:26:32.912543Z",
     "start_time": "2025-02-14T07:24:42.166951Z"
    }
   },
   "outputs": [
    {
     "name": "stdout",
     "output_type": "stream",
     "text": [
      "Performing stepwise search to minimize aic\n",
      " ARIMA(2,0,2)(1,0,1)[12] intercept   : AIC=inf, Time=3.84 sec\n",
      " ARIMA(0,0,0)(0,0,0)[12] intercept   : AIC=13230.398, Time=0.03 sec\n",
      " ARIMA(1,0,0)(1,0,0)[12] intercept   : AIC=11151.379, Time=0.92 sec\n",
      " ARIMA(0,0,1)(0,0,1)[12] intercept   : AIC=11726.709, Time=0.53 sec\n",
      " ARIMA(0,0,0)(0,0,0)[12]             : AIC=18175.193, Time=0.02 sec\n",
      " ARIMA(1,0,0)(0,0,0)[12] intercept   : AIC=11162.695, Time=0.14 sec\n",
      " ARIMA(1,0,0)(2,0,0)[12] intercept   : AIC=11146.205, Time=2.32 sec\n",
      " ARIMA(1,0,0)(2,0,1)[12] intercept   : AIC=inf, Time=5.32 sec\n",
      " ARIMA(1,0,0)(1,0,1)[12] intercept   : AIC=inf, Time=1.31 sec\n",
      " ARIMA(0,0,0)(2,0,0)[12] intercept   : AIC=12261.742, Time=1.98 sec\n",
      " ARIMA(2,0,0)(2,0,0)[12] intercept   : AIC=11141.972, Time=3.11 sec\n",
      " ARIMA(2,0,0)(1,0,0)[12] intercept   : AIC=11144.136, Time=1.13 sec\n",
      " ARIMA(2,0,0)(2,0,1)[12] intercept   : AIC=inf, Time=6.76 sec\n",
      " ARIMA(2,0,0)(1,0,1)[12] intercept   : AIC=inf, Time=1.85 sec\n",
      " ARIMA(3,0,0)(2,0,0)[12] intercept   : AIC=11060.584, Time=4.01 sec\n",
      " ARIMA(3,0,0)(1,0,0)[12] intercept   : AIC=11059.291, Time=1.70 sec\n",
      " ARIMA(3,0,0)(0,0,0)[12] intercept   : AIC=11060.403, Time=0.41 sec\n",
      " ARIMA(3,0,0)(1,0,1)[12] intercept   : AIC=inf, Time=2.41 sec\n",
      " ARIMA(3,0,0)(0,0,1)[12] intercept   : AIC=11059.407, Time=0.79 sec\n",
      " ARIMA(3,0,0)(2,0,1)[12] intercept   : AIC=inf, Time=5.55 sec\n",
      " ARIMA(4,0,0)(1,0,0)[12] intercept   : AIC=11007.187, Time=2.11 sec\n",
      " ARIMA(4,0,0)(0,0,0)[12] intercept   : AIC=11006.598, Time=0.55 sec\n",
      " ARIMA(4,0,0)(0,0,1)[12] intercept   : AIC=11007.191, Time=0.95 sec\n",
      " ARIMA(4,0,0)(1,0,1)[12] intercept   : AIC=inf, Time=3.91 sec\n",
      " ARIMA(5,0,0)(0,0,0)[12] intercept   : AIC=10972.279, Time=0.75 sec\n",
      " ARIMA(5,0,0)(1,0,0)[12] intercept   : AIC=10973.686, Time=2.79 sec\n",
      " ARIMA(5,0,0)(0,0,1)[12] intercept   : AIC=10973.684, Time=1.19 sec\n",
      " ARIMA(5,0,0)(1,0,1)[12] intercept   : AIC=inf, Time=3.47 sec\n",
      " ARIMA(5,0,1)(0,0,0)[12] intercept   : AIC=10851.976, Time=2.29 sec\n",
      " ARIMA(5,0,1)(1,0,0)[12] intercept   : AIC=10891.066, Time=5.11 sec\n",
      " ARIMA(5,0,1)(0,0,1)[12] intercept   : AIC=10853.681, Time=3.87 sec\n",
      " ARIMA(5,0,1)(1,0,1)[12] intercept   : AIC=inf, Time=5.25 sec\n",
      " ARIMA(4,0,1)(0,0,0)[12] intercept   : AIC=10849.955, Time=2.12 sec\n",
      " ARIMA(4,0,1)(1,0,0)[12] intercept   : AIC=10877.955, Time=4.15 sec\n",
      " ARIMA(4,0,1)(0,0,1)[12] intercept   : AIC=10851.745, Time=3.54 sec\n",
      " ARIMA(4,0,1)(1,0,1)[12] intercept   : AIC=inf, Time=4.23 sec\n",
      " ARIMA(3,0,1)(0,0,0)[12] intercept   : AIC=10848.023, Time=1.78 sec\n",
      " ARIMA(3,0,1)(1,0,0)[12] intercept   : AIC=10864.657, Time=3.94 sec\n",
      " ARIMA(3,0,1)(0,0,1)[12] intercept   : AIC=10849.742, Time=3.17 sec\n",
      " ARIMA(3,0,1)(1,0,1)[12] intercept   : AIC=inf, Time=3.67 sec\n",
      " ARIMA(2,0,1)(0,0,0)[12] intercept   : AIC=10886.929, Time=1.80 sec\n",
      " ARIMA(3,0,2)(0,0,0)[12] intercept   : AIC=10849.978, Time=1.92 sec\n",
      " ARIMA(2,0,0)(0,0,0)[12] intercept   : AIC=11151.219, Time=0.30 sec\n",
      " ARIMA(2,0,2)(0,0,0)[12] intercept   : AIC=10849.969, Time=1.38 sec\n",
      " ARIMA(4,0,2)(0,0,0)[12] intercept   : AIC=10851.941, Time=1.47 sec\n",
      " ARIMA(3,0,1)(0,0,0)[12]             : AIC=10856.277, Time=0.52 sec\n",
      "\n",
      "Best model:  ARIMA(3,0,1)(0,0,0)[12] intercept\n",
      "Total fit time: 110.448 seconds\n"
     ]
    },
    {
     "name": "stderr",
     "output_type": "stream",
     "text": [
      "C:\\Users\\Admin\\anaconda3\\lib\\site-packages\\statsmodels\\tsa\\base\\tsa_model.py:834: ValueWarning: No supported index is available. Prediction results will be given with an integer index beginning at `start`.\n",
      "  return get_prediction_index(\n"
     ]
    },
    {
     "ename": "AttributeError",
     "evalue": "'NoneType' object has no attribute 'inverse_transform'",
     "output_type": "error",
     "traceback": [
      "\u001b[1;31m---------------------------------------------------------------------------\u001b[0m",
      "\u001b[1;31mAttributeError\u001b[0m                            Traceback (most recent call last)",
      "\u001b[1;32m~\\AppData\\Local\\Temp\\ipykernel_19672\\3195687376.py\u001b[0m in \u001b[0;36m<module>\u001b[1;34m\u001b[0m\n\u001b[1;32m----> 1\u001b[1;33m \u001b[0mforecast_pipeline\u001b[0m\u001b[1;33m(\u001b[0m\u001b[0mdata\u001b[0m\u001b[1;33m=\u001b[0m\u001b[0mdata\u001b[0m\u001b[1;33m,\u001b[0m \u001b[0mmodel_type\u001b[0m\u001b[1;33m=\u001b[0m\u001b[1;34m\"SARIMA\"\u001b[0m\u001b[1;33m,\u001b[0m \u001b[0mnormalize\u001b[0m\u001b[1;33m=\u001b[0m\u001b[1;34m\"none\"\u001b[0m\u001b[1;33m,\u001b[0m \u001b[0mseasonality\u001b[0m\u001b[1;33m=\u001b[0m\u001b[1;36m12\u001b[0m\u001b[1;33m)\u001b[0m\u001b[1;33m\u001b[0m\u001b[1;33m\u001b[0m\u001b[0m\n\u001b[0m\u001b[0;32m      2\u001b[0m \u001b[0mforecast_pipeline\u001b[0m\u001b[1;33m(\u001b[0m\u001b[0mdata\u001b[0m\u001b[1;33m=\u001b[0m\u001b[0mdata\u001b[0m\u001b[1;33m,\u001b[0m \u001b[0mmodel_type\u001b[0m\u001b[1;33m=\u001b[0m\u001b[1;34m\"Theta\"\u001b[0m\u001b[1;33m,\u001b[0m \u001b[0mnormalize\u001b[0m\u001b[1;33m=\u001b[0m\u001b[1;34m\"standard\"\u001b[0m\u001b[1;33m,\u001b[0m \u001b[0mseasonality\u001b[0m\u001b[1;33m=\u001b[0m\u001b[1;36m12\u001b[0m\u001b[1;33m)\u001b[0m\u001b[1;33m\u001b[0m\u001b[1;33m\u001b[0m\u001b[0m\n\u001b[0;32m      3\u001b[0m \u001b[0mforecast_pipeline\u001b[0m\u001b[1;33m(\u001b[0m\u001b[0mdata\u001b[0m\u001b[1;33m=\u001b[0m\u001b[0mdata\u001b[0m\u001b[1;33m,\u001b[0m \u001b[0mmodel_type\u001b[0m\u001b[1;33m=\u001b[0m\u001b[1;34m\"Linear\"\u001b[0m\u001b[1;33m,\u001b[0m \u001b[0mnormalize\u001b[0m\u001b[1;33m=\u001b[0m\u001b[1;34m\"minmax\"\u001b[0m\u001b[1;33m,\u001b[0m \u001b[0mlookback\u001b[0m\u001b[1;33m=\u001b[0m\u001b[1;36m24\u001b[0m\u001b[1;33m)\u001b[0m\u001b[1;33m\u001b[0m\u001b[1;33m\u001b[0m\u001b[0m\n",
      "\u001b[1;32m~\\AppData\\Local\\Temp\\ipykernel_19672\\3440494903.py\u001b[0m in \u001b[0;36mforecast_pipeline\u001b[1;34m(data, model_type, normalize, lookback, **kwargs)\u001b[0m\n\u001b[0;32m     71\u001b[0m         \u001b[0my_test_actual\u001b[0m \u001b[1;33m=\u001b[0m \u001b[0mscaler\u001b[0m\u001b[1;33m.\u001b[0m\u001b[0minverse_transform\u001b[0m\u001b[1;33m(\u001b[0m\u001b[0mtest_data\u001b[0m\u001b[1;33m[\u001b[0m\u001b[1;33m:\u001b[0m\u001b[0mlen\u001b[0m\u001b[1;33m(\u001b[0m\u001b[0my_pred\u001b[0m\u001b[1;33m)\u001b[0m\u001b[1;33m]\u001b[0m\u001b[1;33m.\u001b[0m\u001b[0mreshape\u001b[0m\u001b[1;33m(\u001b[0m\u001b[1;33m-\u001b[0m\u001b[1;36m1\u001b[0m\u001b[1;33m,\u001b[0m \u001b[1;36m1\u001b[0m\u001b[1;33m)\u001b[0m\u001b[1;33m)\u001b[0m\u001b[1;33m\u001b[0m\u001b[1;33m\u001b[0m\u001b[0m\n\u001b[0;32m     72\u001b[0m     \u001b[1;32mif\u001b[0m \u001b[0mconf_int\u001b[0m \u001b[1;32mis\u001b[0m \u001b[1;32mnot\u001b[0m \u001b[1;32mNone\u001b[0m\u001b[1;33m:\u001b[0m\u001b[1;33m\u001b[0m\u001b[1;33m\u001b[0m\u001b[0m\n\u001b[1;32m---> 73\u001b[1;33m             \u001b[0mlower_bound\u001b[0m \u001b[1;33m=\u001b[0m \u001b[0mscaler\u001b[0m\u001b[1;33m.\u001b[0m\u001b[0minverse_transform\u001b[0m\u001b[1;33m(\u001b[0m\u001b[0mconf_int\u001b[0m\u001b[1;33m[\u001b[0m\u001b[1;33m:\u001b[0m\u001b[1;33m,\u001b[0m \u001b[1;36m0\u001b[0m\u001b[1;33m]\u001b[0m\u001b[1;33m.\u001b[0m\u001b[0mreshape\u001b[0m\u001b[1;33m(\u001b[0m\u001b[1;33m-\u001b[0m\u001b[1;36m1\u001b[0m\u001b[1;33m,\u001b[0m \u001b[1;36m1\u001b[0m\u001b[1;33m)\u001b[0m\u001b[1;33m)\u001b[0m\u001b[1;33m\u001b[0m\u001b[1;33m\u001b[0m\u001b[0m\n\u001b[0m\u001b[0;32m     74\u001b[0m             \u001b[0mupper_bound\u001b[0m \u001b[1;33m=\u001b[0m \u001b[0mscaler\u001b[0m\u001b[1;33m.\u001b[0m\u001b[0minverse_transform\u001b[0m\u001b[1;33m(\u001b[0m\u001b[0mconf_int\u001b[0m\u001b[1;33m[\u001b[0m\u001b[1;33m:\u001b[0m\u001b[1;33m,\u001b[0m \u001b[1;36m1\u001b[0m\u001b[1;33m]\u001b[0m\u001b[1;33m.\u001b[0m\u001b[0mreshape\u001b[0m\u001b[1;33m(\u001b[0m\u001b[1;33m-\u001b[0m\u001b[1;36m1\u001b[0m\u001b[1;33m,\u001b[0m \u001b[1;36m1\u001b[0m\u001b[1;33m)\u001b[0m\u001b[1;33m)\u001b[0m\u001b[1;33m\u001b[0m\u001b[1;33m\u001b[0m\u001b[0m\n\u001b[0;32m     75\u001b[0m             \u001b[0mconf_int\u001b[0m \u001b[1;33m=\u001b[0m \u001b[1;33m(\u001b[0m\u001b[0mlower_bound\u001b[0m\u001b[1;33m,\u001b[0m \u001b[0mupper_bound\u001b[0m\u001b[1;33m)\u001b[0m\u001b[1;33m\u001b[0m\u001b[1;33m\u001b[0m\u001b[0m\n",
      "\u001b[1;31mAttributeError\u001b[0m: 'NoneType' object has no attribute 'inverse_transform'"
     ]
    }
   ],
   "source": [
    "forecast_pipeline(data=data, model_type=\"SARIMA\", normalize=\"none\", seasonality=12)\n",
    "forecast_pipeline(data=data, model_type=\"Theta\", normalize=\"standard\", seasonality=12)\n",
    "forecast_pipeline(data=data, model_type=\"Linear\", normalize=\"minmax\", lookback=24)"
   ]
  },
  {
   "cell_type": "code",
   "execution_count": null,
   "id": "7620d11a",
   "metadata": {},
   "outputs": [],
   "source": []
  }
 ],
 "metadata": {
  "kernelspec": {
   "display_name": "Python 3 (ipykernel)",
   "language": "python",
   "name": "python3"
  },
  "language_info": {
   "codemirror_mode": {
    "name": "ipython",
    "version": 3
   },
   "file_extension": ".py",
   "mimetype": "text/x-python",
   "name": "python",
   "nbconvert_exporter": "python",
   "pygments_lexer": "ipython3",
   "version": "3.9.13"
  },
  "toc": {
   "base_numbering": 1,
   "nav_menu": {},
   "number_sections": true,
   "sideBar": true,
   "skip_h1_title": false,
   "title_cell": "Table of Contents",
   "title_sidebar": "Contents",
   "toc_cell": false,
   "toc_position": {
    "height": "calc(100% - 180px)",
    "left": "10px",
    "top": "150px",
    "width": "369px"
   },
   "toc_section_display": true,
   "toc_window_display": true
  }
 },
 "nbformat": 4,
 "nbformat_minor": 5
}
