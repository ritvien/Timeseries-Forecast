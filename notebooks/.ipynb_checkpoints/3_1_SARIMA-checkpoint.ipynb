{
 "cells": [
  {
   "cell_type": "code",
   "execution_count": 1,
   "id": "db813f64",
   "metadata": {
    "ExecuteTime": {
     "end_time": "2025-02-15T10:13:24.482999Z",
     "start_time": "2025-02-15T10:13:24.461773Z"
    }
   },
   "outputs": [],
   "source": [
    "DATA_TRAIN_PROCESSED = '../data/prepocessed/train.csv'\n",
    "LOG_RESULTS = '../models/log/metrics_results.csv'\n",
    "REPORT = '../reports/results/'"
   ]
  },
  {
   "cell_type": "markdown",
   "id": "021d986d",
   "metadata": {},
   "source": [
    "# Import"
   ]
  },
  {
   "cell_type": "code",
   "execution_count": 2,
   "id": "daf7a7cd",
   "metadata": {
    "ExecuteTime": {
     "end_time": "2025-02-15T10:13:27.540124Z",
     "start_time": "2025-02-15T10:13:25.163069Z"
    }
   },
   "outputs": [
    {
     "name": "stderr",
     "output_type": "stream",
     "text": [
      "C:\\Users\\Admin\\anaconda3\\lib\\site-packages\\pandas\\core\\computation\\expressions.py:21: UserWarning: Pandas requires version '2.8.4' or newer of 'numexpr' (version '2.8.3' currently installed).\n",
      "  from pandas.core.computation.check import NUMEXPR_INSTALLED\n",
      "C:\\Users\\Admin\\anaconda3\\lib\\site-packages\\pandas\\core\\arrays\\masked.py:60: UserWarning: Pandas requires version '1.3.6' or newer of 'bottleneck' (version '1.3.5' currently installed).\n",
      "  from pandas.core import (\n"
     ]
    }
   ],
   "source": [
    "import numpy as np\n",
    "import pandas as pd\n",
    "import matplotlib.pyplot as plt\n",
    "import seaborn as sns\n",
    "from tqdm import tqdm\n",
    "import warnings\n",
    "\n",
    "warnings.filterwarnings(\"ignore\")"
   ]
  },
  {
   "cell_type": "code",
   "execution_count": 3,
   "id": "1fc9e614",
   "metadata": {
    "ExecuteTime": {
     "end_time": "2025-02-15T10:13:29.832674Z",
     "start_time": "2025-02-15T10:13:28.987852Z"
    }
   },
   "outputs": [],
   "source": [
    "from statsmodels.tsa.arima.model import ARIMA\n",
    "from pmdarima import auto_arima\n",
    "\n",
    "from sklearn.preprocessing import MinMaxScaler, StandardScaler"
   ]
  },
  {
   "cell_type": "markdown",
   "id": "4c3f4709",
   "metadata": {},
   "source": [
    "# Define"
   ]
  },
  {
   "cell_type": "markdown",
   "id": "a53aa96f",
   "metadata": {},
   "source": [
    "## Model"
   ]
  },
  {
   "cell_type": "code",
   "execution_count": 9,
   "id": "d3a08eb1",
   "metadata": {
    "ExecuteTime": {
     "end_time": "2025-02-15T10:13:39.588669Z",
     "start_time": "2025-02-15T10:13:39.581137Z"
    }
   },
   "outputs": [],
   "source": [
    "from pmdarima.arima import auto_arima\n",
    "import numpy as np\n",
    "\n",
    "class SARIMAModel:\n",
    "    def __init__(self, train_data):\n",
    "        \"\"\"\n",
    "        Khởi tạo mô hình SARIMA.\n",
    "\n",
    "        :param train_data: Dữ liệu huấn luyện (chuỗi thời gian).\n",
    "        \"\"\"\n",
    "        self.train_data = train_data\n",
    "        self.model = None\n",
    "        self.order = None\n",
    "        self.seasonal_order = None\n",
    "\n",
    "    def fit(self, p=None, d=None, q=None, P=None, D=None, Q=None, m=1):\n",
    "        \"\"\"\n",
    "        Huấn luyện mô hình SARIMA với các tham số chỉ định hoặc tìm tham số tối ưu.\n",
    "\n",
    "        Args:\n",
    "            p, d, q (int, optional): Tham số của phần ARIMA.\n",
    "            P, D, Q (int, optional): Tham số của phần mùa vụ.\n",
    "            m (int, optional): Chu kỳ mùa vụ (mặc định = 1, tức là không có mùa vụ).\n",
    "        \"\"\"\n",
    "        self.model = auto_arima(\n",
    "            self.train_data,\n",
    "            p=p if p is not None else 0, max_p=p if p is not None else 5,\n",
    "            d=d if d is not None else 0, max_d=d if d is not None else 2,\n",
    "            q=q if q is not None else 0, max_q=q if q is not None else 5,\n",
    "            P=P if P is not None else 0, max_P=P if P is not None else 2,\n",
    "            D=D if D is not None else 0, max_D=D if D is not None else 1,\n",
    "            Q=Q if Q is not None else 0, max_Q=Q if Q is not None else 2,\n",
    "            m=m, \n",
    "            seasonal=(m > 1),  \n",
    "            stepwise=True,\n",
    "            trace=True\n",
    "        )\n",
    "\n",
    "        print(f\"Best params: {self.model.summary()}\")\n",
    "        self.order = self.model.order\n",
    "        self.seasonal_order = self.model.seasonal_order\n",
    "\n",
    "    def predict(self, length):\n",
    "        \"\"\"\n",
    "        Dự báo nhiều bước phía trước.\n",
    "\n",
    "        :param length: Số bước cần dự báo.\n",
    "        :return: DataFrame chứa giá trị dự báo và khoảng tin cậy.\n",
    "        \"\"\"\n",
    "        if self.model is None:\n",
    "            raise ValueError(\"Model has not been trained yet. Please call fit() before predicting.\")\n",
    "\n",
    "        forecast, conf_int = self.model.predict(n_periods=length, return_conf_int=True)\n",
    "\n",
    "        return np.array(forecast), np.array(conf_int)\n"
   ]
  },
  {
   "cell_type": "markdown",
   "id": "beb1a361",
   "metadata": {},
   "source": [
    "## Task"
   ]
  },
  {
   "cell_type": "code",
   "execution_count": 10,
   "id": "693535c9",
   "metadata": {
    "ExecuteTime": {
     "end_time": "2025-02-15T10:13:39.924438Z",
     "start_time": "2025-02-15T10:13:39.901685Z"
    }
   },
   "outputs": [],
   "source": [
    "def normalize_data(data, method=\"minmax\"):\n",
    "    \"\"\"Chuẩn hóa dữ liệu theo phương pháp MinMax hoặc StandardScaler.\"\"\"\n",
    "    if method == \"minmax\":\n",
    "        scaler = MinMaxScaler(feature_range=(0, 1))\n",
    "    elif method == \"standard\":\n",
    "        scaler = StandardScaler()\n",
    "    else:\n",
    "        return data, None\n",
    "\n",
    "    data_scaled = scaler.fit_transform(np.array(data).reshape(-1, 1))\n",
    "    return data_scaled, scaler"
   ]
  },
  {
   "cell_type": "code",
   "execution_count": 11,
   "id": "5d5f084f",
   "metadata": {
    "ExecuteTime": {
     "end_time": "2025-02-15T10:13:40.049468Z",
     "start_time": "2025-02-15T10:13:40.042832Z"
    }
   },
   "outputs": [],
   "source": [
    "def inverse_scale(data_scaled, scaler):\n",
    "    \"\"\"\n",
    "    Đảo ngược quá trình chuẩn hóa dữ liệu.\n",
    "\n",
    "    Parameters:\n",
    "        data_scaled (np.array): Dữ liệu đã được chuẩn hóa.\n",
    "        scaler: Đối tượng scaler đã sử dụng để chuẩn hóa dữ liệu.\n",
    "\n",
    "    Returns:\n",
    "        np.array: Dữ liệu gốc sau khi đảo ngược chuẩn hóa.\n",
    "    \"\"\"\n",
    "    if scaler is None:\n",
    "        return data_scaled  \n",
    "    data_original = scaler.inverse_transform(np.array(data_scaled).reshape(-1, 1))\n",
    "    return data_original.flatten()"
   ]
  },
  {
   "cell_type": "code",
   "execution_count": 12,
   "id": "443ccadb",
   "metadata": {
    "ExecuteTime": {
     "end_time": "2025-02-15T10:13:40.190817Z",
     "start_time": "2025-02-15T10:13:40.176291Z"
    }
   },
   "outputs": [],
   "source": [
    "def plot_forecast(train_data, y_test, y_pred, model, index, conf_int=None):\n",
    "    \"\"\"\n",
    "    Vẽ và lưu biểu đồ dự báo.\n",
    "\n",
    "    Args:\n",
    "        train_data (pd.Series): Dữ liệu huấn luyện.\n",
    "        y_test (pd.Series): Dữ liệu thực tế.\n",
    "        y_pred (np.array): Giá trị dự báo.\n",
    "        model: Đối tượng model đã được huấn luyện (có thuộc tính `__class__.__name__`).\n",
    "        index (int): Index của dòng metrics đã lưu.\n",
    "        conf_int (np.array, optional): Khoảng tin cậy của dự báo.\n",
    "    \"\"\"\n",
    "    plt.figure(figsize=(12, 6))\n",
    "\n",
    "    train_index = train_data.index\n",
    "    test_index = y_test.index\n",
    "\n",
    "    model_name = model.__class__.__name__\n",
    "\n",
    "    plt.plot(train_index, train_data, label=\"Original Data\", color='gray', alpha=0.5)\n",
    "    plt.plot(test_index, y_test, label=\"Actual\", color='blue')\n",
    "    plt.plot(test_index[:len(y_pred)], y_pred, label=\"Predicted\", color='red', linestyle='dashed')\n",
    "\n",
    "    # Vẽ khoảng tin cậy nếu có\n",
    "    if conf_int is not None:\n",
    "        conf_int = np.array(conf_int).reshape(-1, 2)\n",
    "        lower_bound, upper_bound = conf_int[:, 0], conf_int[:, 1]\n",
    "        plt.fill_between(test_index[:len(y_pred)], lower_bound, upper_bound, \n",
    "                         color='pink', alpha=0.3, label=\"Confidence Interval\")\n",
    "\n",
    "    # Cài đặt đồ thị\n",
    "    plt.title(f\"{model_name} Forecast\")\n",
    "    plt.xlabel(\"Time\")\n",
    "    plt.ylabel(\"Value\")\n",
    "    plt.legend(ncol=4)\n",
    "\n",
    "    # Lưu hình ảnh với tên index_{Model}.png\n",
    "    file_path = f\"{REPORT}_{index}_{model_name}.png\"\n",
    "    plt.savefig(file_path, dpi=300)\n",
    "    plt.close()\n",
    "\n",
    "    print(f\"Plot saved to {file_path}\")\n"
   ]
  },
  {
   "cell_type": "code",
   "execution_count": 13,
   "id": "4a1a8576",
   "metadata": {
    "ExecuteTime": {
     "end_time": "2025-02-15T10:13:40.346294Z",
     "start_time": "2025-02-15T10:13:40.325996Z"
    }
   },
   "outputs": [],
   "source": [
    "from sklearn.metrics import mean_absolute_percentage_error, r2_score\n",
    "from datetime import datetime\n",
    "\n",
    "def compute_metrics(model, scaler, y_test, y_pred):\n",
    "    \"\"\"\n",
    "    Tính toán các chỉ số đánh giá mô hình và trả về dưới dạng một dòng DataFrame.\n",
    "\n",
    "    Args:\n",
    "        model (object): Đối tượng mô hình (VD: ARIMA, RandomForest, LSTM,...)\n",
    "        scaler (object): Bộ scaler đã sử dụng (VD: MinMaxScaler, StandardScaler,...)\n",
    "        y_test (array-like): Giá trị thực tế\n",
    "        y_pred (array-like): Giá trị dự đoán\n",
    "\n",
    "    Returns:\n",
    "        pd.DataFrame: Một dòng DataFrame chứa metrics đánh giá mô hình\n",
    "    \"\"\"\n",
    "\n",
    "    model_name = model.__class__.__name__\n",
    "\n",
    "    try:\n",
    "        model_params = model.get_params()\n",
    "    except AttributeError:\n",
    "        try:\n",
    "            model_params = model.order  # Cho ARIMA\n",
    "        except AttributeError:\n",
    "            model_params = \"Unknown\"\n",
    "\n",
    "    scaler_name = scaler.__class__.__name__\n",
    "    execution_date = datetime.today().strftime(\"%d-%m-%Y\")\n",
    "    mape = mean_absolute_percentage_error(y_test, y_pred)\n",
    "    rmse = np.sqrt(np.mean((y_test - y_pred) ** 2))\n",
    "    r2 = r2_score(y_test, y_pred)\n",
    "\n",
    "    result = pd.DataFrame([{\n",
    "        \"Model\": model_name,\n",
    "        \"Scaler\": scaler_name,\n",
    "        \"Params\": str(model_params),\n",
    "        \"MAPE\": mape,\n",
    "        \"RMSE\": rmse,\n",
    "        \"R2 Score\": r2,\n",
    "        \"Execution Date\": execution_date\n",
    "    }])\n",
    "\n",
    "    return result\n"
   ]
  },
  {
   "cell_type": "code",
   "execution_count": 14,
   "id": "e316ddf4",
   "metadata": {
    "ExecuteTime": {
     "end_time": "2025-02-15T10:13:40.484316Z",
     "start_time": "2025-02-15T10:13:40.467008Z"
    }
   },
   "outputs": [],
   "source": [
    "import os\n",
    "\n",
    "def save_metrics_to_csv(df, file_path):\n",
    "    \"\"\"\n",
    "    Lưu DataFrame metrics vào file CSV. Nếu file chưa tồn tại thì tạo mới, \n",
    "    nếu đã tồn tại thì append dữ liệu vào.\n",
    "\n",
    "    Args:\n",
    "        df (pd.DataFrame): DataFrame chứa metrics của mô hình.\n",
    "        file_path (str): Đường dẫn đến file CSV cần lưu.\n",
    "\n",
    "    Returns:\n",
    "        int: Index của dòng vừa được lưu.\n",
    "    \"\"\"\n",
    "    file_exists = os.path.isfile(file_path)\n",
    "\n",
    "    if file_exists:\n",
    "        existing_df = pd.read_csv(file_path)\n",
    "        last_index = existing_df.index[-1] + 1 if not existing_df.empty else 0\n",
    "    else:\n",
    "        last_index = 0\n",
    "\n",
    "    df.index = range(last_index, last_index + len(df))\n",
    "\n",
    "    # Lưu vào CSV\n",
    "    df.to_csv(file_path, mode=\"a\", index=False, header=not file_exists, encoding=\"utf-8\")\n",
    "    \n",
    "    print(f\"Metrics saved to {file_path}\")\n",
    "    \n",
    "    return last_index \n"
   ]
  },
  {
   "cell_type": "markdown",
   "id": "7c8988a9",
   "metadata": {},
   "source": [
    "# Run"
   ]
  },
  {
   "cell_type": "code",
   "execution_count": 28,
   "id": "60c123a4",
   "metadata": {
    "ExecuteTime": {
     "end_time": "2025-02-15T10:14:32.520852Z",
     "start_time": "2025-02-15T10:14:32.508606Z"
    }
   },
   "outputs": [],
   "source": [
    "data = pd.read_csv(DATA_TRAIN_PROCESSED)"
   ]
  },
  {
   "cell_type": "markdown",
   "id": "7c0ec5f2",
   "metadata": {},
   "source": [
    "* Configs"
   ]
  },
  {
   "cell_type": "code",
   "execution_count": 29,
   "id": "a65108bc",
   "metadata": {
    "ExecuteTime": {
     "end_time": "2025-02-15T10:14:32.838661Z",
     "start_time": "2025-02-15T10:14:32.822529Z"
    }
   },
   "outputs": [],
   "source": [
    "normalize =\"standard\""
   ]
  },
  {
   "cell_type": "markdown",
   "id": "b2001296",
   "metadata": {},
   "source": [
    "* Process"
   ]
  },
  {
   "cell_type": "code",
   "execution_count": 30,
   "id": "4f95c001",
   "metadata": {
    "ExecuteTime": {
     "end_time": "2025-02-15T10:14:33.135667Z",
     "start_time": "2025-02-15T10:14:33.116117Z"
    }
   },
   "outputs": [],
   "source": [
    "data_copy = data.copy()\n",
    "data_copy[\"Date\"] = pd.to_datetime(data_copy[\"Date\"])\n",
    "data_copy.set_index(\"Date\", inplace=True)"
   ]
  },
  {
   "cell_type": "markdown",
   "id": "a247c994",
   "metadata": {},
   "source": [
    "* Split"
   ]
  },
  {
   "cell_type": "code",
   "execution_count": 31,
   "id": "b1423fbd",
   "metadata": {
    "ExecuteTime": {
     "end_time": "2025-02-15T10:14:33.432676Z",
     "start_time": "2025-02-15T10:14:33.426684Z"
    }
   },
   "outputs": [],
   "source": [
    "split_idx = int(len(data_copy) * 0.8)\n",
    "train_data = data_copy.iloc[:split_idx]\n",
    "val_data = data_copy.iloc[split_idx:]\n",
    "length_pred = len(val_data)"
   ]
  },
  {
   "cell_type": "markdown",
   "id": "37a0b7a5",
   "metadata": {},
   "source": [
    "* Scale"
   ]
  },
  {
   "cell_type": "code",
   "execution_count": 32,
   "id": "b5350fb4",
   "metadata": {
    "ExecuteTime": {
     "end_time": "2025-02-15T10:14:34.174562Z",
     "start_time": "2025-02-15T10:14:34.167035Z"
    }
   },
   "outputs": [],
   "source": [
    "train_scaled, scaler = normalize_data(train_data, method=normalize)\n",
    "val_scaled = scaler.transform(val_data)"
   ]
  },
  {
   "cell_type": "markdown",
   "id": "cb691af6",
   "metadata": {},
   "source": [
    "* Init model"
   ]
  },
  {
   "cell_type": "code",
   "execution_count": 33,
   "id": "efd650de",
   "metadata": {
    "ExecuteTime": {
     "end_time": "2025-02-15T10:14:35.924606Z",
     "start_time": "2025-02-15T10:14:35.915327Z"
    }
   },
   "outputs": [],
   "source": [
    "model = SARIMAModel(train_scaled)"
   ]
  },
  {
   "cell_type": "markdown",
   "id": "2547329a",
   "metadata": {},
   "source": [
    "* fit model"
   ]
  },
  {
   "cell_type": "code",
   "execution_count": null,
   "id": "b50457dd",
   "metadata": {
    "ExecuteTime": {
     "start_time": "2025-02-15T10:14:42.215Z"
    },
    "scrolled": true
   },
   "outputs": [
    {
     "name": "stdout",
     "output_type": "stream",
     "text": [
      "Performing stepwise search to minimize aic\n"
     ]
    }
   ],
   "source": [
    "model.fit(m=365)"
   ]
  },
  {
   "cell_type": "markdown",
   "id": "51344557",
   "metadata": {},
   "source": [
    "* forecast"
   ]
  },
  {
   "cell_type": "code",
   "execution_count": 23,
   "id": "566c7923",
   "metadata": {
    "ExecuteTime": {
     "end_time": "2025-02-15T10:14:10.490244Z",
     "start_time": "2025-02-15T10:14:10.462835Z"
    },
    "scrolled": true
   },
   "outputs": [],
   "source": [
    "predictions, conf_int = model.predict(length_pred)"
   ]
  },
  {
   "cell_type": "markdown",
   "id": "e378c501",
   "metadata": {},
   "source": [
    "* Inverse scale"
   ]
  },
  {
   "cell_type": "code",
   "execution_count": 24,
   "id": "44e98560",
   "metadata": {
    "ExecuteTime": {
     "end_time": "2025-02-15T10:14:10.820085Z",
     "start_time": "2025-02-15T10:14:10.810639Z"
    }
   },
   "outputs": [],
   "source": [
    "y_pred = inverse_scale(predictions, scaler)\n",
    "conf_int[:,0] = inverse_scale(conf_int[:,0], scaler)\n",
    "conf_int[:,1] = inverse_scale(conf_int[:,1], scaler)"
   ]
  },
  {
   "cell_type": "markdown",
   "id": "3f6d2401",
   "metadata": {},
   "source": [
    "* Evaluate"
   ]
  },
  {
   "cell_type": "code",
   "execution_count": 25,
   "id": "31cb1049",
   "metadata": {
    "ExecuteTime": {
     "end_time": "2025-02-15T10:14:11.880229Z",
     "start_time": "2025-02-15T10:14:11.846275Z"
    }
   },
   "outputs": [
    {
     "data": {
      "text/html": [
       "<div>\n",
       "<style scoped>\n",
       "    .dataframe tbody tr th:only-of-type {\n",
       "        vertical-align: middle;\n",
       "    }\n",
       "\n",
       "    .dataframe tbody tr th {\n",
       "        vertical-align: top;\n",
       "    }\n",
       "\n",
       "    .dataframe thead th {\n",
       "        text-align: right;\n",
       "    }\n",
       "</style>\n",
       "<table border=\"1\" class=\"dataframe\">\n",
       "  <thead>\n",
       "    <tr style=\"text-align: right;\">\n",
       "      <th></th>\n",
       "      <th>Model</th>\n",
       "      <th>Scaler</th>\n",
       "      <th>Params</th>\n",
       "      <th>MAPE</th>\n",
       "      <th>RMSE</th>\n",
       "      <th>R2 Score</th>\n",
       "      <th>Execution Date</th>\n",
       "    </tr>\n",
       "  </thead>\n",
       "  <tbody>\n",
       "    <tr>\n",
       "      <th>0</th>\n",
       "      <td>SARIMAModel</td>\n",
       "      <td>StandardScaler</td>\n",
       "      <td>(3, 0, 1)</td>\n",
       "      <td>0.34666</td>\n",
       "      <td>3.890336</td>\n",
       "      <td>0.035631</td>\n",
       "      <td>15-02-2025</td>\n",
       "    </tr>\n",
       "  </tbody>\n",
       "</table>\n",
       "</div>"
      ],
      "text/plain": [
       "         Model          Scaler     Params     MAPE      RMSE  R2 Score  \\\n",
       "0  SARIMAModel  StandardScaler  (3, 0, 1)  0.34666  3.890336  0.035631   \n",
       "\n",
       "  Execution Date  \n",
       "0     15-02-2025  "
      ]
     },
     "execution_count": 25,
     "metadata": {},
     "output_type": "execute_result"
    }
   ],
   "source": [
    "df_metrics = compute_metrics(model, scaler, val_data.values, y_pred)\n",
    "df_metrics"
   ]
  },
  {
   "cell_type": "markdown",
   "id": "62e834fd",
   "metadata": {},
   "source": [
    "* Save"
   ]
  },
  {
   "cell_type": "code",
   "execution_count": 26,
   "id": "f65804f9",
   "metadata": {
    "ExecuteTime": {
     "end_time": "2025-02-15T10:14:20.296060Z",
     "start_time": "2025-02-15T10:14:20.251663Z"
    }
   },
   "outputs": [
    {
     "name": "stdout",
     "output_type": "stream",
     "text": [
      "Metrics saved to ../models/log/metrics_results.csv\n"
     ]
    },
    {
     "data": {
      "text/html": [
       "<div>\n",
       "<style scoped>\n",
       "    .dataframe tbody tr th:only-of-type {\n",
       "        vertical-align: middle;\n",
       "    }\n",
       "\n",
       "    .dataframe tbody tr th {\n",
       "        vertical-align: top;\n",
       "    }\n",
       "\n",
       "    .dataframe thead th {\n",
       "        text-align: right;\n",
       "    }\n",
       "</style>\n",
       "<table border=\"1\" class=\"dataframe\">\n",
       "  <thead>\n",
       "    <tr style=\"text-align: right;\">\n",
       "      <th></th>\n",
       "      <th>Model</th>\n",
       "      <th>Scaler</th>\n",
       "      <th>Params</th>\n",
       "      <th>MAPE</th>\n",
       "      <th>RMSE</th>\n",
       "      <th>R2 Score</th>\n",
       "      <th>Execution Date</th>\n",
       "    </tr>\n",
       "  </thead>\n",
       "  <tbody>\n",
       "    <tr>\n",
       "      <th>0</th>\n",
       "      <td>ARIMAModel</td>\n",
       "      <td>StandardScaler</td>\n",
       "      <td>(0, 1, 3)</td>\n",
       "      <td>0.338293</td>\n",
       "      <td>3.982606</td>\n",
       "      <td>-0.055332</td>\n",
       "      <td>15-02-2025</td>\n",
       "    </tr>\n",
       "    <tr>\n",
       "      <th>1</th>\n",
       "      <td>SARIMAModel</td>\n",
       "      <td>StandardScaler</td>\n",
       "      <td>(3, 0, 1)</td>\n",
       "      <td>0.346660</td>\n",
       "      <td>3.890336</td>\n",
       "      <td>0.035631</td>\n",
       "      <td>15-02-2025</td>\n",
       "    </tr>\n",
       "  </tbody>\n",
       "</table>\n",
       "</div>"
      ],
      "text/plain": [
       "         Model          Scaler     Params      MAPE      RMSE  R2 Score  \\\n",
       "0   ARIMAModel  StandardScaler  (0, 1, 3)  0.338293  3.982606 -0.055332   \n",
       "1  SARIMAModel  StandardScaler  (3, 0, 1)  0.346660  3.890336  0.035631   \n",
       "\n",
       "  Execution Date  \n",
       "0     15-02-2025  \n",
       "1     15-02-2025  "
      ]
     },
     "execution_count": 26,
     "metadata": {},
     "output_type": "execute_result"
    }
   ],
   "source": [
    "# Save metrics\n",
    "index = save_metrics_to_csv(df_metrics, LOG_RESULTS)\n",
    "# Save plot\n",
    "plot_forecast(train_data, val_data, y_pred, model, index=index, conf_int=conf_int)\n",
    "pd.read_csv(LOG_RESULTS)"
   ]
  },
  {
   "cell_type": "code",
   "execution_count": null,
   "id": "25eaef33",
   "metadata": {},
   "outputs": [],
   "source": []
  }
 ],
 "metadata": {
  "kernelspec": {
   "display_name": "Python 3 (ipykernel)",
   "language": "python",
   "name": "python3"
  },
  "language_info": {
   "codemirror_mode": {
    "name": "ipython",
    "version": 3
   },
   "file_extension": ".py",
   "mimetype": "text/x-python",
   "name": "python",
   "nbconvert_exporter": "python",
   "pygments_lexer": "ipython3",
   "version": "3.9.13"
  },
  "toc": {
   "base_numbering": 1,
   "nav_menu": {},
   "number_sections": true,
   "sideBar": true,
   "skip_h1_title": false,
   "title_cell": "Table of Contents",
   "title_sidebar": "Contents",
   "toc_cell": false,
   "toc_position": {
    "height": "calc(100% - 180px)",
    "left": "10px",
    "top": "150px",
    "width": "369px"
   },
   "toc_section_display": true,
   "toc_window_display": true
  }
 },
 "nbformat": 4,
 "nbformat_minor": 5
}
