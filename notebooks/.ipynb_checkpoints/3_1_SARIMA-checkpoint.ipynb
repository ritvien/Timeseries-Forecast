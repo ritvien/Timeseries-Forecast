{
 "cells": [
  {
   "cell_type": "code",
   "execution_count": 1,
   "id": "db813f64",
   "metadata": {
    "ExecuteTime": {
     "end_time": "2025-02-15T09:56:55.843691Z",
     "start_time": "2025-02-15T09:56:55.829095Z"
    }
   },
   "outputs": [],
   "source": [
    "DATA_TRAIN_PROCESSED = '../data/prepocessed/train.csv'"
   ]
  },
  {
   "cell_type": "code",
   "execution_count": 2,
   "id": "9de448b1",
   "metadata": {
    "ExecuteTime": {
     "end_time": "2025-02-15T09:56:55.974835Z",
     "start_time": "2025-02-15T09:56:55.963525Z"
    }
   },
   "outputs": [],
   "source": [
    "LOG_RESULTS = '../models/log/metrics_results.csv'"
   ]
  },
  {
   "cell_type": "markdown",
   "id": "021d986d",
   "metadata": {},
   "source": [
    "# Import"
   ]
  },
  {
   "cell_type": "code",
   "execution_count": 3,
   "id": "daf7a7cd",
   "metadata": {
    "ExecuteTime": {
     "end_time": "2025-02-15T09:56:58.644674Z",
     "start_time": "2025-02-15T09:56:56.318361Z"
    }
   },
   "outputs": [
    {
     "name": "stderr",
     "output_type": "stream",
     "text": [
      "C:\\Users\\Admin\\anaconda3\\lib\\site-packages\\pandas\\core\\computation\\expressions.py:21: UserWarning: Pandas requires version '2.8.4' or newer of 'numexpr' (version '2.8.3' currently installed).\n",
      "  from pandas.core.computation.check import NUMEXPR_INSTALLED\n",
      "C:\\Users\\Admin\\anaconda3\\lib\\site-packages\\pandas\\core\\arrays\\masked.py:60: UserWarning: Pandas requires version '1.3.6' or newer of 'bottleneck' (version '1.3.5' currently installed).\n",
      "  from pandas.core import (\n"
     ]
    }
   ],
   "source": [
    "import numpy as np\n",
    "import pandas as pd\n",
    "import matplotlib.pyplot as plt\n",
    "import seaborn as sns\n",
    "from tqdm import tqdm\n",
    "import warnings\n",
    "\n",
    "warnings.filterwarnings(\"ignore\")"
   ]
  },
  {
   "cell_type": "code",
   "execution_count": 4,
   "id": "1fc9e614",
   "metadata": {
    "ExecuteTime": {
     "end_time": "2025-02-15T09:56:59.673854Z",
     "start_time": "2025-02-15T09:56:58.646694Z"
    }
   },
   "outputs": [],
   "source": [
    "from statsmodels.tsa.arima.model import ARIMA\n",
    "from pmdarima import auto_arima\n",
    "\n",
    "from sklearn.preprocessing import MinMaxScaler, StandardScaler"
   ]
  },
  {
   "cell_type": "markdown",
   "id": "4c3f4709",
   "metadata": {},
   "source": [
    "# Define"
   ]
  },
  {
   "cell_type": "markdown",
   "id": "a53aa96f",
   "metadata": {},
   "source": [
    "## Model"
   ]
  },
  {
   "cell_type": "code",
   "execution_count": 5,
   "id": "d3a08eb1",
   "metadata": {
    "ExecuteTime": {
     "end_time": "2025-02-15T09:58:29.926688Z",
     "start_time": "2025-02-15T09:58:29.912032Z"
    }
   },
   "outputs": [],
   "source": [
    "from pmdarima.arima import auto_arima\n",
    "import numpy as np\n",
    "\n",
    "class SARIMAModel:\n",
    "    def __init__(self, train_data):\n",
    "        \"\"\"\n",
    "        Khởi tạo mô hình SARIMA.\n",
    "\n",
    "        :param train_data: Dữ liệu huấn luyện (chuỗi thời gian).\n",
    "        \"\"\"\n",
    "        self.train_data = train_data\n",
    "        self.model = None\n",
    "        self.order = None\n",
    "        self.seasonal_order = None\n",
    "\n",
    "    def fit(self, p=None, d=None, q=None, P=None, D=None, Q=None, m=1):\n",
    "        \"\"\"\n",
    "        Huấn luyện mô hình SARIMA với các tham số chỉ định hoặc tìm tham số tối ưu.\n",
    "\n",
    "        Args:\n",
    "            p, d, q (int, optional): Tham số của phần ARIMA.\n",
    "            P, D, Q (int, optional): Tham số của phần mùa vụ.\n",
    "            m (int, optional): Chu kỳ mùa vụ (mặc định = 1, tức là không có mùa vụ).\n",
    "        \"\"\"\n",
    "        self.model = auto_arima(\n",
    "            self.train_data,\n",
    "            p=p if p is not None else 0, max_p=p if p is not None else 5,\n",
    "            d=d if d is not None else 0, max_d=d if d is not None else 2,\n",
    "            q=q if q is not None else 0, max_q=q if q is not None else 5,\n",
    "            P=P if P is not None else 0, max_P=P if P is not None else 2,\n",
    "            D=D if D is not None else 0, max_D=D if D is not None else 1,\n",
    "            Q=Q if Q is not None else 0, max_Q=Q if Q is not None else 2,\n",
    "            m=m, \n",
    "            seasonal=(m > 1),  \n",
    "            stepwise=True,\n",
    "            trace=True\n",
    "        )\n",
    "\n",
    "        print(f\"Best params: {self.model.summary()}\")\n",
    "        self.order = self.model.order\n",
    "        self.seasonal_order = self.model.seasonal_order\n",
    "\n",
    "    def predict(self, length):\n",
    "        \"\"\"\n",
    "        Dự báo nhiều bước phía trước.\n",
    "\n",
    "        :param length: Số bước cần dự báo.\n",
    "        :return: DataFrame chứa giá trị dự báo và khoảng tin cậy.\n",
    "        \"\"\"\n",
    "        if self.model is None:\n",
    "            raise ValueError(\"Model has not been trained yet. Please call fit() before predicting.\")\n",
    "\n",
    "        forecast, conf_int = self.model.predict(n_periods=length, return_conf_int=True)\n",
    "\n",
    "        return np.array(forecast), np.array(conf_int)\n"
   ]
  },
  {
   "cell_type": "markdown",
   "id": "ddb2005d",
   "metadata": {},
   "source": [
    "## Task"
   ]
  },
  {
   "cell_type": "code",
   "execution_count": 6,
   "id": "178fc533",
   "metadata": {
    "ExecuteTime": {
     "end_time": "2025-02-15T09:58:30.714041Z",
     "start_time": "2025-02-15T09:58:30.696519Z"
    }
   },
   "outputs": [],
   "source": [
    "def normalize_data(data, method=\"minmax\"):\n",
    "    \"\"\"Chuẩn hóa dữ liệu theo phương pháp MinMax hoặc StandardScaler.\"\"\"\n",
    "    if method == \"minmax\":\n",
    "        scaler = MinMaxScaler(feature_range=(0, 1))\n",
    "    elif method == \"standard\":\n",
    "        scaler = StandardScaler()\n",
    "    else:\n",
    "        return data, None\n",
    "\n",
    "    data_scaled = scaler.fit_transform(np.array(data).reshape(-1, 1))\n",
    "    return data_scaled, scaler"
   ]
  },
  {
   "cell_type": "code",
   "execution_count": 7,
   "id": "c1b35ccd",
   "metadata": {
    "ExecuteTime": {
     "end_time": "2025-02-15T09:58:30.872229Z",
     "start_time": "2025-02-15T09:58:30.863522Z"
    }
   },
   "outputs": [],
   "source": [
    "def inverse_scale(data_scaled, scaler):\n",
    "    \"\"\"\n",
    "    Đảo ngược quá trình chuẩn hóa dữ liệu.\n",
    "\n",
    "    Parameters:\n",
    "        data_scaled (np.array): Dữ liệu đã được chuẩn hóa.\n",
    "        scaler: Đối tượng scaler đã sử dụng để chuẩn hóa dữ liệu.\n",
    "\n",
    "    Returns:\n",
    "        np.array: Dữ liệu gốc sau khi đảo ngược chuẩn hóa.\n",
    "    \"\"\"\n",
    "    if scaler is None:\n",
    "        return data_scaled  \n",
    "    data_original = scaler.inverse_transform(np.array(data_scaled).reshape(-1, 1))\n",
    "    return data_original.flatten()"
   ]
  },
  {
   "cell_type": "code",
   "execution_count": 18,
   "id": "443ccadb",
   "metadata": {
    "ExecuteTime": {
     "end_time": "2025-02-15T10:04:40.927850Z",
     "start_time": "2025-02-15T10:04:40.915087Z"
    }
   },
   "outputs": [],
   "source": [
    "def plot_forecast(train_data, y_test, y_pred, model, index, conf_int=None):\n",
    "    \"\"\"\n",
    "    Vẽ và lưu biểu đồ dự báo.\n",
    "\n",
    "    Args:\n",
    "        train_data (pd.Series): Dữ liệu huấn luyện.\n",
    "        y_test (pd.Series): Dữ liệu thực tế.\n",
    "        y_pred (np.array): Giá trị dự báo.\n",
    "        model: Đối tượng model đã được huấn luyện (có thuộc tính `__class__.__name__`).\n",
    "        index (int): Index của dòng metrics đã lưu.\n",
    "        conf_int (np.array, optional): Khoảng tin cậy của dự báo.\n",
    "    \"\"\"\n",
    "    plt.figure(figsize=(12, 6))\n",
    "\n",
    "    train_index = train_data.index\n",
    "    test_index = y_test.index\n",
    "\n",
    "    model_name = model.__class__.__name__\n",
    "\n",
    "    plt.plot(train_index, train_data, label=\"Original Data\", color='gray', alpha=0.5)\n",
    "    plt.plot(test_index, y_test, label=\"Actual\", color='blue')\n",
    "    plt.plot(test_index[:len(y_pred)], y_pred, label=\"Predicted\", color='red', linestyle='dashed')\n",
    "\n",
    "    # Vẽ khoảng tin cậy nếu có\n",
    "    if conf_int is not None:\n",
    "        conf_int = np.array(conf_int).reshape(-1, 2)\n",
    "        lower_bound, upper_bound = conf_int[:, 0], conf_int[:, 1]\n",
    "        plt.fill_between(test_index[:len(y_pred)], lower_bound, upper_bound, \n",
    "                         color='pink', alpha=0.3, label=\"Confidence Interval\")\n",
    "\n",
    "    # Cài đặt đồ thị\n",
    "    plt.title(f\"{model_name} Forecast\")\n",
    "    plt.xlabel(\"Time\")\n",
    "    plt.ylabel(\"Value\")\n",
    "    plt.legend(ncol=4)\n",
    "\n",
    "    # Lưu hình ảnh với tên index_{Model}.png\n",
    "    file_path = f\"_{index}_{model_name}.png\"\n",
    "    plt.savefig(file_path, dpi=300)\n",
    "    plt.close()\n",
    "\n",
    "    print(f\"Plot saved to {file_path}\")\n"
   ]
  },
  {
   "cell_type": "code",
   "execution_count": 19,
   "id": "b36a29b0",
   "metadata": {
    "ExecuteTime": {
     "end_time": "2025-02-15T10:05:02.498231Z",
     "start_time": "2025-02-15T10:05:02.481563Z"
    }
   },
   "outputs": [],
   "source": [
    "from sklearn.metrics import mean_absolute_percentage_error, r2_score\n",
    "from datetime import datetime\n",
    "\n",
    "def compute_metrics(model, scaler, y_test, y_pred):\n",
    "    \"\"\"\n",
    "    Tính toán các chỉ số đánh giá mô hình và trả về dưới dạng một dòng DataFrame.\n",
    "\n",
    "    Args:\n",
    "        model (object): Đối tượng mô hình (VD: ARIMA, RandomForest, LSTM,...)\n",
    "        scaler (object): Bộ scaler đã sử dụng (VD: MinMaxScaler, StandardScaler,...)\n",
    "        y_test (array-like): Giá trị thực tế\n",
    "        y_pred (array-like): Giá trị dự đoán\n",
    "\n",
    "    Returns:\n",
    "        pd.DataFrame: Một dòng DataFrame chứa metrics đánh giá mô hình\n",
    "    \"\"\"\n",
    "\n",
    "    model_name = model.__class__.__name__\n",
    "\n",
    "    try:\n",
    "        model_params = model.get_params()\n",
    "    except AttributeError:\n",
    "        try:\n",
    "            model_params = model.order  # Cho ARIMA\n",
    "        except AttributeError:\n",
    "            model_params = \"Unknown\"\n",
    "\n",
    "    scaler_name = scaler.__class__.__name__\n",
    "    execution_date = datetime.today().strftime(\"%d-%m-%Y\")\n",
    "    mape = mean_absolute_percentage_error(y_test, y_pred)\n",
    "    rmse = np.sqrt(np.mean((y_test - y_pred) ** 2))\n",
    "    r2 = r2_score(y_test, y_pred)\n",
    "\n",
    "    result = pd.DataFrame([{\n",
    "        \"Model\": model_name,\n",
    "        \"Scaler\": scaler_name,\n",
    "        \"Params\": str(model_params),\n",
    "        \"MAPE\": mape,\n",
    "        \"RMSE\": rmse,\n",
    "        \"R2 Score\": r2,\n",
    "        \"Execution Date\": execution_date\n",
    "    }])\n",
    "\n",
    "    return result\n"
   ]
  },
  {
   "cell_type": "code",
   "execution_count": 17,
   "id": "85618502",
   "metadata": {
    "ExecuteTime": {
     "end_time": "2025-02-15T10:03:56.961646Z",
     "start_time": "2025-02-15T10:03:56.947527Z"
    }
   },
   "outputs": [],
   "source": [
    "import os\n",
    "\n",
    "def save_metrics_to_csv(df, file_path):\n",
    "    \"\"\"\n",
    "    Lưu DataFrame metrics vào file CSV. Nếu file chưa tồn tại thì tạo mới, \n",
    "    nếu đã tồn tại thì append dữ liệu vào.\n",
    "\n",
    "    Args:\n",
    "        df (pd.DataFrame): DataFrame chứa metrics của mô hình.\n",
    "        file_path (str): Đường dẫn đến file CSV cần lưu.\n",
    "\n",
    "    Returns:\n",
    "        int: Index của dòng vừa được lưu.\n",
    "    \"\"\"\n",
    "    file_exists = os.path.isfile(file_path)\n",
    "\n",
    "    if file_exists:\n",
    "        existing_df = pd.read_csv(file_path)\n",
    "        last_index = existing_df.index[-1] + 1 if not existing_df.empty else 0\n",
    "    else:\n",
    "        last_index = 0\n",
    "\n",
    "    df.index = range(last_index, last_index + len(df))\n",
    "\n",
    "    # Lưu vào CSV\n",
    "    df.to_csv(file_path, mode=\"a\", index=False, header=not file_exists, encoding=\"utf-8\")\n",
    "    \n",
    "    print(f\"Metrics saved to {file_path}\")\n",
    "    \n",
    "    return last_index \n"
   ]
  },
  {
   "cell_type": "markdown",
   "id": "7c8988a9",
   "metadata": {},
   "source": [
    "# Run"
   ]
  },
  {
   "cell_type": "code",
   "execution_count": 11,
   "id": "60c123a4",
   "metadata": {
    "ExecuteTime": {
     "end_time": "2025-02-15T09:58:33.000792Z",
     "start_time": "2025-02-15T09:58:32.976945Z"
    }
   },
   "outputs": [],
   "source": [
    "data = pd.read_csv(DATA_TRAIN_PROCESSED)"
   ]
  },
  {
   "cell_type": "markdown",
   "id": "52345cf8",
   "metadata": {},
   "source": [
    "* Configs"
   ]
  },
  {
   "cell_type": "code",
   "execution_count": 12,
   "id": "b94e6e1a",
   "metadata": {
    "ExecuteTime": {
     "end_time": "2025-02-15T09:58:38.559792Z",
     "start_time": "2025-02-15T09:58:38.546658Z"
    }
   },
   "outputs": [],
   "source": [
    "normalize =\"standard\"\n",
    "model_type = 'SARIMA'"
   ]
  },
  {
   "cell_type": "markdown",
   "id": "2f049dd7",
   "metadata": {},
   "source": [
    "* Process"
   ]
  },
  {
   "cell_type": "code",
   "execution_count": 13,
   "id": "456f8e7c",
   "metadata": {
    "ExecuteTime": {
     "end_time": "2025-02-15T09:58:40.429016Z",
     "start_time": "2025-02-15T09:58:40.413227Z"
    }
   },
   "outputs": [],
   "source": [
    "data_copy = data.copy()\n",
    "data_copy[\"Date\"] = pd.to_datetime(data_copy[\"Date\"])\n",
    "data_copy.set_index(\"Date\", inplace=True)"
   ]
  },
  {
   "cell_type": "markdown",
   "id": "6e80aa14",
   "metadata": {},
   "source": [
    "* Split"
   ]
  },
  {
   "cell_type": "code",
   "execution_count": 14,
   "id": "e58b26df",
   "metadata": {
    "ExecuteTime": {
     "end_time": "2025-02-15T09:58:42.052625Z",
     "start_time": "2025-02-15T09:58:42.042108Z"
    }
   },
   "outputs": [],
   "source": [
    "split_idx = int(len(data_copy) * 0.8)\n",
    "train_data = data_copy.iloc[:split_idx]\n",
    "val_data = data_copy.iloc[split_idx:]\n",
    "length_pred = len(val_data)"
   ]
  },
  {
   "cell_type": "markdown",
   "id": "aa7986b7",
   "metadata": {},
   "source": [
    "* Scale"
   ]
  },
  {
   "cell_type": "code",
   "execution_count": 15,
   "id": "6026357d",
   "metadata": {
    "ExecuteTime": {
     "end_time": "2025-02-15T09:58:43.112247Z",
     "start_time": "2025-02-15T09:58:43.090149Z"
    }
   },
   "outputs": [],
   "source": [
    "train_scaled, scaler = normalize_data(train_data, method=normalize)\n",
    "val_scaled = scaler.transform(val_data)"
   ]
  },
  {
   "cell_type": "markdown",
   "id": "c89b0d23",
   "metadata": {},
   "source": [
    "* Init model"
   ]
  },
  {
   "cell_type": "code",
   "execution_count": 16,
   "id": "0485fb42",
   "metadata": {
    "ExecuteTime": {
     "end_time": "2025-02-15T09:58:48.351851Z",
     "start_time": "2025-02-15T09:58:48.336020Z"
    }
   },
   "outputs": [],
   "source": [
    "model = SARIMAModel(train_scaled)"
   ]
  },
  {
   "cell_type": "markdown",
   "id": "5a2aac5e",
   "metadata": {},
   "source": [
    "* fit model"
   ]
  },
  {
   "cell_type": "code",
   "execution_count": 424,
   "id": "479c8e1e",
   "metadata": {
    "ExecuteTime": {
     "end_time": "2025-02-15T09:53:39.281237Z",
     "start_time": "2025-02-15T09:53:30.339880Z"
    },
    "scrolled": true
   },
   "outputs": [
    {
     "name": "stdout",
     "output_type": "stream",
     "text": [
      "Performing stepwise search to minimize aic\n",
      " ARIMA(2,1,2)(0,0,0)[0] intercept   : AIC=4256.037, Time=1.14 sec\n",
      " ARIMA(0,1,0)(0,0,0)[0] intercept   : AIC=4848.500, Time=0.16 sec\n",
      " ARIMA(1,1,0)(0,0,0)[0] intercept   : AIC=4770.510, Time=0.09 sec\n",
      " ARIMA(0,1,1)(0,0,0)[0] intercept   : AIC=4624.583, Time=0.20 sec\n",
      " ARIMA(0,1,0)(0,0,0)[0]             : AIC=4846.507, Time=0.04 sec\n",
      " ARIMA(1,1,2)(0,0,0)[0] intercept   : AIC=4255.748, Time=0.76 sec\n",
      " ARIMA(0,1,2)(0,0,0)[0] intercept   : AIC=4275.070, Time=0.36 sec\n",
      " ARIMA(1,1,1)(0,0,0)[0] intercept   : AIC=4288.928, Time=0.84 sec\n",
      " ARIMA(1,1,3)(0,0,0)[0] intercept   : AIC=4256.226, Time=1.04 sec\n",
      " ARIMA(0,1,3)(0,0,0)[0] intercept   : AIC=4254.226, Time=0.71 sec\n",
      " ARIMA(0,1,4)(0,0,0)[0] intercept   : AIC=4256.226, Time=0.79 sec\n",
      " ARIMA(1,1,4)(0,0,0)[0] intercept   : AIC=4258.118, Time=0.81 sec\n",
      " ARIMA(0,1,3)(0,0,0)[0]             : AIC=4252.413, Time=0.19 sec\n",
      " ARIMA(0,1,2)(0,0,0)[0]             : AIC=4273.234, Time=0.14 sec\n",
      " ARIMA(1,1,3)(0,0,0)[0]             : AIC=4254.413, Time=0.35 sec\n",
      " ARIMA(0,1,4)(0,0,0)[0]             : AIC=4254.413, Time=0.23 sec\n",
      " ARIMA(1,1,2)(0,0,0)[0]             : AIC=4253.938, Time=0.25 sec\n",
      " ARIMA(1,1,4)(0,0,0)[0]             : AIC=4256.235, Time=0.83 sec\n",
      "\n",
      "Best model:  ARIMA(0,1,3)(0,0,0)[0]          \n",
      "Total fit time: 8.923 seconds\n",
      "Best params:                                SARIMAX Results                                \n",
      "==============================================================================\n",
      "Dep. Variable:                      y   No. Observations:                 2336\n",
      "Model:               SARIMAX(0, 1, 3)   Log Likelihood               -2122.206\n",
      "Date:                Sat, 15 Feb 2025   AIC                           4252.413\n",
      "Time:                        16:53:39   BIC                           4275.436\n",
      "Sample:                             0   HQIC                          4260.800\n",
      "                               - 2336                                         \n",
      "Covariance Type:                  opg                                         \n",
      "==============================================================================\n",
      "                 coef    std err          z      P>|z|      [0.025      0.975]\n",
      "------------------------------------------------------------------------------\n",
      "ma.L1         -0.4113      0.019    -21.601      0.000      -0.449      -0.374\n",
      "ma.L2         -0.3366      0.021    -16.215      0.000      -0.377      -0.296\n",
      "ma.L3         -0.0987      0.019     -5.069      0.000      -0.137      -0.061\n",
      "sigma2         0.3604      0.010     35.684      0.000       0.341       0.380\n",
      "===================================================================================\n",
      "Ljung-Box (L1) (Q):                   0.00   Jarque-Bera (JB):                 5.91\n",
      "Prob(Q):                              1.00   Prob(JB):                         0.05\n",
      "Heteroskedasticity (H):               0.89   Skew:                             0.06\n",
      "Prob(H) (two-sided):                  0.10   Kurtosis:                         3.21\n",
      "===================================================================================\n",
      "\n",
      "Warnings:\n",
      "[1] Covariance matrix calculated using the outer product of gradients (complex-step).\n"
     ]
    }
   ],
   "source": [
    "model.fit(d=1)"
   ]
  },
  {
   "cell_type": "markdown",
   "id": "6ba1958c",
   "metadata": {},
   "source": [
    "* forecast"
   ]
  },
  {
   "cell_type": "code",
   "execution_count": 425,
   "id": "f6ca1b43",
   "metadata": {
    "ExecuteTime": {
     "end_time": "2025-02-15T09:53:50.885963Z",
     "start_time": "2025-02-15T09:53:50.857761Z"
    },
    "scrolled": true
   },
   "outputs": [],
   "source": [
    "predictions, conf_int = model.predict(length_pred)"
   ]
  },
  {
   "cell_type": "markdown",
   "id": "882cd8b8",
   "metadata": {},
   "source": [
    "* Inverse scale"
   ]
  },
  {
   "cell_type": "code",
   "execution_count": 426,
   "id": "1d843055",
   "metadata": {
    "ExecuteTime": {
     "end_time": "2025-02-15T09:53:51.318065Z",
     "start_time": "2025-02-15T09:53:51.307449Z"
    }
   },
   "outputs": [],
   "source": [
    "y_pred = inverse_scale(predictions, scaler)\n",
    "conf_int[:,0] = inverse_scale(conf_int[:,0], scaler)\n",
    "conf_int[:,1] = inverse_scale(conf_int[:,1], scaler)"
   ]
  },
  {
   "cell_type": "markdown",
   "id": "ef6fca5a",
   "metadata": {},
   "source": [
    "* Plot"
   ]
  },
  {
   "cell_type": "code",
   "execution_count": 427,
   "id": "f7d25b6a",
   "metadata": {
    "ExecuteTime": {
     "end_time": "2025-02-15T09:53:52.050484Z",
     "start_time": "2025-02-15T09:53:51.867202Z"
    }
   },
   "outputs": [
    {
     "data": {
      "image/png": "[encoded data removed]",
      "text/plain": [
       "<Figure size 1200x600 with 1 Axes>"
      ]
     },
     "metadata": {},
     "output_type": "display_data"
    }
   ],
   "source": [
    "plot_forecast(train_data, val_data, y_pred, model_type, scaler, conf_int=conf_int)"
   ]
  },
  {
   "cell_type": "code",
   "execution_count": 429,
   "id": "6ac92d71",
   "metadata": {
    "ExecuteTime": {
     "end_time": "2025-02-15T09:53:57.365972Z",
     "start_time": "2025-02-15T09:53:57.348782Z"
    }
   },
   "outputs": [
    {
     "data": {
      "text/html": [
       "<div>\n",
       "<style scoped>\n",
       "    .dataframe tbody tr th:only-of-type {\n",
       "        vertical-align: middle;\n",
       "    }\n",
       "\n",
       "    .dataframe tbody tr th {\n",
       "        vertical-align: top;\n",
       "    }\n",
       "\n",
       "    .dataframe thead th {\n",
       "        text-align: right;\n",
       "    }\n",
       "</style>\n",
       "<table border=\"1\" class=\"dataframe\">\n",
       "  <thead>\n",
       "    <tr style=\"text-align: right;\">\n",
       "      <th></th>\n",
       "      <th>Model</th>\n",
       "      <th>Scaler</th>\n",
       "      <th>Params</th>\n",
       "      <th>MAPE</th>\n",
       "      <th>RMSE</th>\n",
       "      <th>R2 Score</th>\n",
       "      <th>Execution Date</th>\n",
       "    </tr>\n",
       "  </thead>\n",
       "  <tbody>\n",
       "    <tr>\n",
       "      <th>0</th>\n",
       "      <td>ARIMAModel</td>\n",
       "      <td>StandardScaler</td>\n",
       "      <td>(0, 1, 3)</td>\n",
       "      <td>0.338293</td>\n",
       "      <td>3.982606</td>\n",
       "      <td>-0.055332</td>\n",
       "      <td>15-02-2025</td>\n",
       "    </tr>\n",
       "  </tbody>\n",
       "</table>\n",
       "</div>"
      ],
      "text/plain": [
       "        Model          Scaler     Params      MAPE      RMSE  R2 Score  \\\n",
       "0  ARIMAModel  StandardScaler  (0, 1, 3)  0.338293  3.982606 -0.055332   \n",
       "\n",
       "  Execution Date  \n",
       "0     15-02-2025  "
      ]
     },
     "execution_count": 429,
     "metadata": {},
     "output_type": "execute_result"
    }
   ],
   "source": [
    "df_metrics = compute_metrics(model, scaler, val_data.values, y_pred)\n",
    "df_metrics"
   ]
  },
  {
   "cell_type": "code",
   "execution_count": 430,
   "id": "34231ccb",
   "metadata": {
    "ExecuteTime": {
     "end_time": "2025-02-15T09:54:02.853781Z",
     "start_time": "2025-02-15T09:54:02.845931Z"
    }
   },
   "outputs": [
    {
     "name": "stdout",
     "output_type": "stream",
     "text": [
      "Metrics saved to ../models/log/metrics_results.csv\n"
     ]
    }
   ],
   "source": [
    "save_metrics_to_csv(df_metrics, LOG_RESULTS)"
   ]
  },
  {
   "cell_type": "code",
   "execution_count": 431,
   "id": "feac2351",
   "metadata": {
    "ExecuteTime": {
     "end_time": "2025-02-15T09:54:27.435816Z",
     "start_time": "2025-02-15T09:54:27.412410Z"
    }
   },
   "outputs": [
    {
     "data": {
      "text/html": [
       "<div>\n",
       "<style scoped>\n",
       "    .dataframe tbody tr th:only-of-type {\n",
       "        vertical-align: middle;\n",
       "    }\n",
       "\n",
       "    .dataframe tbody tr th {\n",
       "        vertical-align: top;\n",
       "    }\n",
       "\n",
       "    .dataframe thead th {\n",
       "        text-align: right;\n",
       "    }\n",
       "</style>\n",
       "<table border=\"1\" class=\"dataframe\">\n",
       "  <thead>\n",
       "    <tr style=\"text-align: right;\">\n",
       "      <th></th>\n",
       "      <th>Model</th>\n",
       "      <th>Scaler</th>\n",
       "      <th>Params</th>\n",
       "      <th>MAPE</th>\n",
       "      <th>RMSE</th>\n",
       "      <th>R2 Score</th>\n",
       "      <th>Execution Date</th>\n",
       "    </tr>\n",
       "  </thead>\n",
       "  <tbody>\n",
       "    <tr>\n",
       "      <th>0</th>\n",
       "      <td>ARIMAModel</td>\n",
       "      <td>StandardScaler</td>\n",
       "      <td>(3, 0, 1)</td>\n",
       "      <td>0.346660</td>\n",
       "      <td>3.890336</td>\n",
       "      <td>0.035631</td>\n",
       "      <td>15-02-2025</td>\n",
       "    </tr>\n",
       "    <tr>\n",
       "      <th>1</th>\n",
       "      <td>ARIMAModel</td>\n",
       "      <td>StandardScaler</td>\n",
       "      <td>(0, 1, 3)</td>\n",
       "      <td>0.338293</td>\n",
       "      <td>3.982606</td>\n",
       "      <td>-0.055332</td>\n",
       "      <td>15-02-2025</td>\n",
       "    </tr>\n",
       "  </tbody>\n",
       "</table>\n",
       "</div>"
      ],
      "text/plain": [
       "        Model          Scaler     Params      MAPE      RMSE  R2 Score  \\\n",
       "0  ARIMAModel  StandardScaler  (3, 0, 1)  0.346660  3.890336  0.035631   \n",
       "1  ARIMAModel  StandardScaler  (0, 1, 3)  0.338293  3.982606 -0.055332   \n",
       "\n",
       "  Execution Date  \n",
       "0     15-02-2025  \n",
       "1     15-02-2025  "
      ]
     },
     "execution_count": 431,
     "metadata": {},
     "output_type": "execute_result"
    }
   ],
   "source": [
    "pd.read_csv(LOG_RESULTS)"
   ]
  },
  {
   "cell_type": "code",
   "execution_count": null,
   "id": "04e67a68",
   "metadata": {},
   "outputs": [],
   "source": []
  }
 ],
 "metadata": {
  "kernelspec": {
   "display_name": "Python 3 (ipykernel)",
   "language": "python",
   "name": "python3"
  },
  "language_info": {
   "codemirror_mode": {
    "name": "ipython",
    "version": 3
   },
   "file_extension": ".py",
   "mimetype": "text/x-python",
   "name": "python",
   "nbconvert_exporter": "python",
   "pygments_lexer": "ipython3",
   "version": "3.9.13"
  },
  "toc": {
   "base_numbering": 1,
   "nav_menu": {},
   "number_sections": true,
   "sideBar": true,
   "skip_h1_title": false,
   "title_cell": "Table of Contents",
   "title_sidebar": "Contents",
   "toc_cell": false,
   "toc_position": {
    "height": "calc(100% - 180px)",
    "left": "10px",
    "top": "150px",
    "width": "369px"
   },
   "toc_section_display": true,
   "toc_window_display": true
  }
 },
 "nbformat": 4,
 "nbformat_minor": 5
}
