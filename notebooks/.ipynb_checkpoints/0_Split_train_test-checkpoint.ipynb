{
 "cells": [
  {
   "cell_type": "code",
   "execution_count": 3,
   "id": "34c04bac",
   "metadata": {
    "ExecuteTime": {
     "end_time": "2025-02-16T15:59:49.752856Z",
     "start_time": "2025-02-16T15:59:49.744453Z"
    }
   },
   "outputs": [],
   "source": [
    "DATA_DIR = '../data/'\n",
    "DATA_RAW = '../data/raw/temp_raw.csv'\n",
    "DATA_TRAIN_RAW = '../data/raw/train.csv'\n",
    "DATA_TEST_RAW = '../tests/test.csv'"
   ]
  },
  {
   "cell_type": "markdown",
   "id": "e6bc3272",
   "metadata": {},
   "source": [
    "# Import Libraries and Module"
   ]
  },
  {
   "cell_type": "code",
   "execution_count": 11,
   "id": "88009426",
   "metadata": {
    "ExecuteTime": {
     "end_time": "2025-02-11T05:47:06.186145Z",
     "start_time": "2025-02-11T05:47:06.178044Z"
    }
   },
   "outputs": [],
   "source": [
    "import pandas as pd"
   ]
  },
  {
   "cell_type": "markdown",
   "id": "8e72f2c4",
   "metadata": {},
   "source": [
    "# Split"
   ]
  },
  {
   "cell_type": "code",
   "execution_count": 12,
   "id": "deae6a8d",
   "metadata": {
    "ExecuteTime": {
     "end_time": "2025-02-11T05:47:59.989060Z",
     "start_time": "2025-02-11T05:47:59.964477Z"
    }
   },
   "outputs": [],
   "source": [
    "data = pd.read_csv(DATA_RAW)"
   ]
  },
  {
   "cell_type": "code",
   "execution_count": 14,
   "id": "15383273",
   "metadata": {
    "ExecuteTime": {
     "end_time": "2025-02-11T05:48:10.846408Z",
     "start_time": "2025-02-11T05:48:10.830378Z"
    },
    "scrolled": true
   },
   "outputs": [
    {
     "data": {
      "text/plain": [
       "2920"
      ]
     },
     "execution_count": 14,
     "metadata": {},
     "output_type": "execute_result"
    }
   ],
   "source": [
    "3650-365*2"
   ]
  },
  {
   "cell_type": "code",
   "execution_count": 18,
   "id": "d35c5599",
   "metadata": {
    "ExecuteTime": {
     "end_time": "2025-02-11T05:48:56.790097Z",
     "start_time": "2025-02-11T05:48:56.782071Z"
    }
   },
   "outputs": [],
   "source": [
    "train = data[:2920]\n",
    "test = data[2921:]"
   ]
  },
  {
   "cell_type": "code",
   "execution_count": 23,
   "id": "ba22edab",
   "metadata": {
    "ExecuteTime": {
     "end_time": "2025-02-11T05:55:58.494680Z",
     "start_time": "2025-02-11T05:55:58.461748Z"
    }
   },
   "outputs": [],
   "source": [
    "train.to_csv(DATA_TRAIN_RAW, index=False)\n",
    "test.to_csv(DATA_TEST_RAW, index=False)"
   ]
  },
  {
   "cell_type": "code",
   "execution_count": 5,
   "id": "a42ae9ef",
   "metadata": {
    "ExecuteTime": {
     "end_time": "2025-02-16T16:55:59.112370Z",
     "start_time": "2025-02-16T16:55:59.089702Z"
    }
   },
   "outputs": [
    {
     "data": {
      "text/html": [
       "<div>\n",
       "<style scoped>\n",
       "    .dataframe tbody tr th:only-of-type {\n",
       "        vertical-align: middle;\n",
       "    }\n",
       "\n",
       "    .dataframe tbody tr th {\n",
       "        vertical-align: top;\n",
       "    }\n",
       "\n",
       "    .dataframe thead th {\n",
       "        text-align: right;\n",
       "    }\n",
       "</style>\n",
       "<table border=\"1\" class=\"dataframe\">\n",
       "  <thead>\n",
       "    <tr style=\"text-align: right;\">\n",
       "      <th></th>\n",
       "      <th>Date</th>\n",
       "      <th>Daily minimum temperatures</th>\n",
       "    </tr>\n",
       "  </thead>\n",
       "  <tbody>\n",
       "    <tr>\n",
       "      <th>0</th>\n",
       "      <td>1/2/1989</td>\n",
       "      <td>17.4</td>\n",
       "    </tr>\n",
       "    <tr>\n",
       "      <th>1</th>\n",
       "      <td>1/3/1989</td>\n",
       "      <td>18.5</td>\n",
       "    </tr>\n",
       "    <tr>\n",
       "      <th>2</th>\n",
       "      <td>1/4/1989</td>\n",
       "      <td>16.8</td>\n",
       "    </tr>\n",
       "    <tr>\n",
       "      <th>3</th>\n",
       "      <td>1/5/1989</td>\n",
       "      <td>11.5</td>\n",
       "    </tr>\n",
       "    <tr>\n",
       "      <th>4</th>\n",
       "      <td>1/6/1989</td>\n",
       "      <td>9.5</td>\n",
       "    </tr>\n",
       "    <tr>\n",
       "      <th>...</th>\n",
       "      <td>...</td>\n",
       "      <td>...</td>\n",
       "    </tr>\n",
       "    <tr>\n",
       "      <th>724</th>\n",
       "      <td>12/27/1990</td>\n",
       "      <td>14.0</td>\n",
       "    </tr>\n",
       "    <tr>\n",
       "      <th>725</th>\n",
       "      <td>12/28/1990</td>\n",
       "      <td>13.6</td>\n",
       "    </tr>\n",
       "    <tr>\n",
       "      <th>726</th>\n",
       "      <td>12/29/1990</td>\n",
       "      <td>13.5</td>\n",
       "    </tr>\n",
       "    <tr>\n",
       "      <th>727</th>\n",
       "      <td>12/30/1990</td>\n",
       "      <td>15.7</td>\n",
       "    </tr>\n",
       "    <tr>\n",
       "      <th>728</th>\n",
       "      <td>12/31/1990</td>\n",
       "      <td>13.0</td>\n",
       "    </tr>\n",
       "  </tbody>\n",
       "</table>\n",
       "<p>729 rows × 2 columns</p>\n",
       "</div>"
      ],
      "text/plain": [
       "           Date  Daily minimum temperatures\n",
       "0      1/2/1989                        17.4\n",
       "1      1/3/1989                        18.5\n",
       "2      1/4/1989                        16.8\n",
       "3      1/5/1989                        11.5\n",
       "4      1/6/1989                         9.5\n",
       "..          ...                         ...\n",
       "724  12/27/1990                        14.0\n",
       "725  12/28/1990                        13.6\n",
       "726  12/29/1990                        13.5\n",
       "727  12/30/1990                        15.7\n",
       "728  12/31/1990                        13.0\n",
       "\n",
       "[729 rows x 2 columns]"
      ]
     },
     "execution_count": 5,
     "metadata": {},
     "output_type": "execute_result"
    }
   ],
   "source": [
    "import pandas as pd\n",
    "pd.read_csv(DATA_TEST_RAW)"
   ]
  },
  {
   "cell_type": "code",
   "execution_count": 7,
   "id": "a5269a9e",
   "metadata": {
    "ExecuteTime": {
     "end_time": "2025-02-16T16:56:29.662487Z",
     "start_time": "2025-02-16T16:56:29.653351Z"
    }
   },
   "outputs": [],
   "source": [
    "DATA_TRAIN_PROCESSED = '../data/prepocessed/train.csv'"
   ]
  },
  {
   "cell_type": "code",
   "execution_count": 8,
   "id": "5c6fb6a9",
   "metadata": {
    "ExecuteTime": {
     "end_time": "2025-02-16T16:56:43.303644Z",
     "start_time": "2025-02-16T16:56:43.272142Z"
    }
   },
   "outputs": [],
   "source": [
    "data = pd.read_csv(DATA_TRAIN_PROCESSED)\n",
    "data_copy = data.copy()\n",
    "data_copy[\"Date\"] = pd.to_datetime(data_copy[\"Date\"])\n",
    "data_copy.set_index(\"Date\", inplace=True)\n",
    "data_copy = data_copy.asfreq(\"D\")"
   ]
  },
  {
   "cell_type": "code",
   "execution_count": 9,
   "id": "84ec3796",
   "metadata": {
    "ExecuteTime": {
     "end_time": "2025-02-16T16:56:49.387859Z",
     "start_time": "2025-02-16T16:56:49.383666Z"
    }
   },
   "outputs": [],
   "source": [
    "split_idx = int(len(data_copy) * 0.8)\n",
    "train_data = data_copy.iloc[:split_idx]\n",
    "val_data = data_copy.iloc[split_idx:]\n",
    "length_pred = len(val_data)"
   ]
  },
  {
   "cell_type": "code",
   "execution_count": 10,
   "id": "02c90eba",
   "metadata": {
    "ExecuteTime": {
     "end_time": "2025-02-16T16:56:52.677668Z",
     "start_time": "2025-02-16T16:56:52.663464Z"
    }
   },
   "outputs": [
    {
     "data": {
      "text/html": [
       "<div>\n",
       "<style scoped>\n",
       "    .dataframe tbody tr th:only-of-type {\n",
       "        vertical-align: middle;\n",
       "    }\n",
       "\n",
       "    .dataframe tbody tr th {\n",
       "        vertical-align: top;\n",
       "    }\n",
       "\n",
       "    .dataframe thead th {\n",
       "        text-align: right;\n",
       "    }\n",
       "</style>\n",
       "<table border=\"1\" class=\"dataframe\">\n",
       "  <thead>\n",
       "    <tr style=\"text-align: right;\">\n",
       "      <th></th>\n",
       "      <th>temperatures</th>\n",
       "    </tr>\n",
       "    <tr>\n",
       "      <th>Date</th>\n",
       "      <th></th>\n",
       "    </tr>\n",
       "  </thead>\n",
       "  <tbody>\n",
       "    <tr>\n",
       "      <th>1987-05-26</th>\n",
       "      <td>9.3</td>\n",
       "    </tr>\n",
       "    <tr>\n",
       "      <th>1987-05-27</th>\n",
       "      <td>5.0</td>\n",
       "    </tr>\n",
       "    <tr>\n",
       "      <th>1987-05-28</th>\n",
       "      <td>4.3</td>\n",
       "    </tr>\n",
       "    <tr>\n",
       "      <th>1987-05-29</th>\n",
       "      <td>6.4</td>\n",
       "    </tr>\n",
       "    <tr>\n",
       "      <th>1987-05-30</th>\n",
       "      <td>10.8</td>\n",
       "    </tr>\n",
       "    <tr>\n",
       "      <th>...</th>\n",
       "      <td>...</td>\n",
       "    </tr>\n",
       "    <tr>\n",
       "      <th>1988-12-26</th>\n",
       "      <td>9.5</td>\n",
       "    </tr>\n",
       "    <tr>\n",
       "      <th>1988-12-27</th>\n",
       "      <td>12.9</td>\n",
       "    </tr>\n",
       "    <tr>\n",
       "      <th>1988-12-28</th>\n",
       "      <td>12.9</td>\n",
       "    </tr>\n",
       "    <tr>\n",
       "      <th>1988-12-29</th>\n",
       "      <td>14.8</td>\n",
       "    </tr>\n",
       "    <tr>\n",
       "      <th>1988-12-30</th>\n",
       "      <td>14.1</td>\n",
       "    </tr>\n",
       "  </tbody>\n",
       "</table>\n",
       "<p>585 rows × 1 columns</p>\n",
       "</div>"
      ],
      "text/plain": [
       "            temperatures\n",
       "Date                    \n",
       "1987-05-26           9.3\n",
       "1987-05-27           5.0\n",
       "1987-05-28           4.3\n",
       "1987-05-29           6.4\n",
       "1987-05-30          10.8\n",
       "...                  ...\n",
       "1988-12-26           9.5\n",
       "1988-12-27          12.9\n",
       "1988-12-28          12.9\n",
       "1988-12-29          14.8\n",
       "1988-12-30          14.1\n",
       "\n",
       "[585 rows x 1 columns]"
      ]
     },
     "execution_count": 10,
     "metadata": {},
     "output_type": "execute_result"
    }
   ],
   "source": [
    "val_data"
   ]
  },
  {
   "cell_type": "code",
   "execution_count": 12,
   "id": "8e19131c",
   "metadata": {
    "ExecuteTime": {
     "end_time": "2025-02-16T16:58:00.171948Z",
     "start_time": "2025-02-16T16:58:00.150002Z"
    }
   },
   "outputs": [
    {
     "data": {
      "text/html": [
       "<div>\n",
       "<style scoped>\n",
       "    .dataframe tbody tr th:only-of-type {\n",
       "        vertical-align: middle;\n",
       "    }\n",
       "\n",
       "    .dataframe tbody tr th {\n",
       "        vertical-align: top;\n",
       "    }\n",
       "\n",
       "    .dataframe thead th {\n",
       "        text-align: right;\n",
       "    }\n",
       "</style>\n",
       "<table border=\"1\" class=\"dataframe\">\n",
       "  <thead>\n",
       "    <tr style=\"text-align: right;\">\n",
       "      <th></th>\n",
       "      <th>temperatures</th>\n",
       "    </tr>\n",
       "    <tr>\n",
       "      <th>Date</th>\n",
       "      <th></th>\n",
       "    </tr>\n",
       "  </thead>\n",
       "  <tbody>\n",
       "    <tr>\n",
       "      <th>1989-01-02</th>\n",
       "      <td>17.4</td>\n",
       "    </tr>\n",
       "    <tr>\n",
       "      <th>1989-01-03</th>\n",
       "      <td>18.5</td>\n",
       "    </tr>\n",
       "    <tr>\n",
       "      <th>1989-01-04</th>\n",
       "      <td>16.8</td>\n",
       "    </tr>\n",
       "    <tr>\n",
       "      <th>1989-01-05</th>\n",
       "      <td>11.5</td>\n",
       "    </tr>\n",
       "    <tr>\n",
       "      <th>1989-01-06</th>\n",
       "      <td>9.5</td>\n",
       "    </tr>\n",
       "    <tr>\n",
       "      <th>...</th>\n",
       "      <td>...</td>\n",
       "    </tr>\n",
       "    <tr>\n",
       "      <th>1990-12-27</th>\n",
       "      <td>14.0</td>\n",
       "    </tr>\n",
       "    <tr>\n",
       "      <th>1990-12-28</th>\n",
       "      <td>13.6</td>\n",
       "    </tr>\n",
       "    <tr>\n",
       "      <th>1990-12-29</th>\n",
       "      <td>13.5</td>\n",
       "    </tr>\n",
       "    <tr>\n",
       "      <th>1990-12-30</th>\n",
       "      <td>15.7</td>\n",
       "    </tr>\n",
       "    <tr>\n",
       "      <th>1990-12-31</th>\n",
       "      <td>13.0</td>\n",
       "    </tr>\n",
       "  </tbody>\n",
       "</table>\n",
       "<p>729 rows × 1 columns</p>\n",
       "</div>"
      ],
      "text/plain": [
       "            temperatures\n",
       "Date                    \n",
       "1989-01-02          17.4\n",
       "1989-01-03          18.5\n",
       "1989-01-04          16.8\n",
       "1989-01-05          11.5\n",
       "1989-01-06           9.5\n",
       "...                  ...\n",
       "1990-12-27          14.0\n",
       "1990-12-28          13.6\n",
       "1990-12-29          13.5\n",
       "1990-12-30          15.7\n",
       "1990-12-31          13.0\n",
       "\n",
       "[729 rows x 1 columns]"
      ]
     },
     "execution_count": 12,
     "metadata": {},
     "output_type": "execute_result"
    }
   ],
   "source": [
    "test_data = pd.read_csv(\"../tests/test.csv\")\n",
    "test_data[\"Date\"] = pd.to_datetime(test_data[\"Date\"])\n",
    "test_data.set_index(\"Date\", inplace=True)\n",
    "test_data = test_data.asfreq(\"D\")\n",
    "test_data"
   ]
  },
  {
   "cell_type": "markdown",
   "id": "8a5579df",
   "metadata": {},
   "source": [
    "> split data ok "
   ]
  },
  {
   "cell_type": "code",
   "execution_count": null,
   "id": "0926061c",
   "metadata": {},
   "outputs": [],
   "source": []
  }
 ],
 "metadata": {
  "kernelspec": {
   "display_name": "Python 3 (ipykernel)",
   "language": "python",
   "name": "python3"
  },
  "language_info": {
   "codemirror_mode": {
    "name": "ipython",
    "version": 3
   },
   "file_extension": ".py",
   "mimetype": "text/x-python",
   "name": "python",
   "nbconvert_exporter": "python",
   "pygments_lexer": "ipython3",
   "version": "3.9.13"
  },
  "toc": {
   "base_numbering": 1,
   "nav_menu": {},
   "number_sections": true,
   "sideBar": true,
   "skip_h1_title": false,
   "title_cell": "Table of Contents",
   "title_sidebar": "Contents",
   "toc_cell": false,
   "toc_position": {},
   "toc_section_display": true,
   "toc_window_display": false
  }
 },
 "nbformat": 4,
 "nbformat_minor": 5
}
