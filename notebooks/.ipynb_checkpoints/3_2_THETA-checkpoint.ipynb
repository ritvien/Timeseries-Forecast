{
 "cells": [
  {
   "cell_type": "code",
   "execution_count": 442,
   "id": "db813f64",
   "metadata": {
    "ExecuteTime": {
     "end_time": "2025-02-15T10:08:06.889726Z",
     "start_time": "2025-02-15T10:08:06.884714Z"
    }
   },
   "outputs": [],
   "source": [
    "DATA_TRAIN_PROCESSED = '../data/prepocessed/train.csv'\n",
    "LOG_RESULTS = '../models/log/metrics_results.csv'\n",
    "REPORT = '../reports/results/'"
   ]
  },
  {
   "cell_type": "markdown",
   "id": "021d986d",
   "metadata": {},
   "source": [
    "# Import"
   ]
  },
  {
   "cell_type": "code",
   "execution_count": 443,
   "id": "daf7a7cd",
   "metadata": {
    "ExecuteTime": {
     "end_time": "2025-02-15T10:08:07.218503Z",
     "start_time": "2025-02-15T10:08:07.202451Z"
    }
   },
   "outputs": [],
   "source": [
    "import numpy as np\n",
    "import pandas as pd\n",
    "import matplotlib.pyplot as plt\n",
    "import seaborn as sns\n",
    "from tqdm import tqdm\n",
    "import warnings\n",
    "\n",
    "warnings.filterwarnings(\"ignore\")"
   ]
  },
  {
   "cell_type": "code",
   "execution_count": 444,
   "id": "1fc9e614",
   "metadata": {
    "ExecuteTime": {
     "end_time": "2025-02-15T10:08:07.364456Z",
     "start_time": "2025-02-15T10:08:07.354785Z"
    }
   },
   "outputs": [],
   "source": [
    "from statsmodels.tsa.arima.model import ARIMA\n",
    "from pmdarima import auto_arima\n",
    "\n",
    "from sklearn.preprocessing import MinMaxScaler, StandardScaler"
   ]
  },
  {
   "cell_type": "markdown",
   "id": "4c3f4709",
   "metadata": {},
   "source": [
    "# Define"
   ]
  },
  {
   "cell_type": "markdown",
   "id": "a53aa96f",
   "metadata": {},
   "source": [
    "## Model"
   ]
  },
  {
   "cell_type": "code",
   "execution_count": 445,
   "id": "d3a08eb1",
   "metadata": {
    "ExecuteTime": {
     "end_time": "2025-02-15T10:08:09.504412Z",
     "start_time": "2025-02-15T10:08:09.497411Z"
    }
   },
   "outputs": [],
   "source": [
    "class ARIMAModel:\n",
    "    def __init__(self, train_data):\n",
    "        \"\"\"\n",
    "        Khởi tạo mô hình ARIMA.\n",
    "\n",
    "        :param train_data: Dữ liệu huấn luyện (chuỗi thời gian).\n",
    "        \"\"\"\n",
    "        self.train_data = train_data\n",
    "        self.model = None\n",
    "        self.order = None\n",
    "\n",
    "    def fit(self, p=None, d=None, q=None):\n",
    "        \"\"\"\n",
    "        Huấn luyện mô hình ARIMA với các tham số chỉ định hoặc tìm tham số tối ưu.\n",
    "\n",
    "        Args:\n",
    "            p (int, optional): Giá trị của tham số p (số lượng bậc trễ của phần AR).\n",
    "            d (int, optional): Giá trị của tham số d (số lần sai phân để làm dừng dữ liệu).\n",
    "            q (int, optional): Giá trị của tham số q (số lượng bậc trễ của phần MA).\n",
    "\n",
    "        Những tham số nào được truyền vào sẽ cố định, các tham số còn lại sẽ được tối ưu tự động.\n",
    "        \"\"\"\n",
    "        self.model = auto_arima(\n",
    "            self.train_data,\n",
    "            p=p if p is not None else 0, max_p=p if p is not None else 5,\n",
    "            d=d if d is not None else 0, max_d=d if d is not None else 2,\n",
    "            q=q if q is not None else 0, max_q=q if q is not None else 5,\n",
    "            stepwise=True,\n",
    "            seasonal=False,\n",
    "            trace=True\n",
    "        )\n",
    "\n",
    "        print(f\"Best params: {self.model.summary()}\")\n",
    "        self.order = self.model.order  \n",
    "\n",
    "\n",
    "\n",
    "    def predict(self, length):\n",
    "        \"\"\"\n",
    "        Dự báo nhiều bước phía trước.\n",
    "\n",
    "        :param length: Số bước cần dự báo.\n",
    "        :return: DataFrame chứa giá trị dự báo và khoảng tin cậy.\n",
    "        \"\"\"\n",
    "        if self.model is None:\n",
    "            raise ValueError(\"Model has not been trained yet. Please call fit() before predicting.\")\n",
    "\n",
    "        forecast, conf_int = self.model.predict(n_periods=length, return_conf_int=True)\n",
    "\n",
    "        return np.array(forecast), np.array(conf_int) \n"
   ]
  },
  {
   "cell_type": "markdown",
   "id": "c0e47b0a",
   "metadata": {},
   "source": [
    "## Task"
   ]
  },
  {
   "cell_type": "code",
   "execution_count": 446,
   "id": "49f827b3",
   "metadata": {
    "ExecuteTime": {
     "end_time": "2025-02-15T10:08:09.828300Z",
     "start_time": "2025-02-15T10:08:09.816785Z"
    }
   },
   "outputs": [],
   "source": [
    "def normalize_data(data, method=\"minmax\"):\n",
    "    \"\"\"Chuẩn hóa dữ liệu theo phương pháp MinMax hoặc StandardScaler.\"\"\"\n",
    "    if method == \"minmax\":\n",
    "        scaler = MinMaxScaler(feature_range=(0, 1))\n",
    "    elif method == \"standard\":\n",
    "        scaler = StandardScaler()\n",
    "    else:\n",
    "        return data, None\n",
    "\n",
    "    data_scaled = scaler.fit_transform(np.array(data).reshape(-1, 1))\n",
    "    return data_scaled, scaler"
   ]
  },
  {
   "cell_type": "code",
   "execution_count": 447,
   "id": "63c54372",
   "metadata": {
    "ExecuteTime": {
     "end_time": "2025-02-15T10:08:09.986891Z",
     "start_time": "2025-02-15T10:08:09.975146Z"
    }
   },
   "outputs": [],
   "source": [
    "def inverse_scale(data_scaled, scaler):\n",
    "    \"\"\"\n",
    "    Đảo ngược quá trình chuẩn hóa dữ liệu.\n",
    "\n",
    "    Parameters:\n",
    "        data_scaled (np.array): Dữ liệu đã được chuẩn hóa.\n",
    "        scaler: Đối tượng scaler đã sử dụng để chuẩn hóa dữ liệu.\n",
    "\n",
    "    Returns:\n",
    "        np.array: Dữ liệu gốc sau khi đảo ngược chuẩn hóa.\n",
    "    \"\"\"\n",
    "    if scaler is None:\n",
    "        return data_scaled  \n",
    "    data_original = scaler.inverse_transform(np.array(data_scaled).reshape(-1, 1))\n",
    "    return data_original.flatten()"
   ]
  },
  {
   "cell_type": "code",
   "execution_count": 448,
   "id": "443ccadb",
   "metadata": {
    "ExecuteTime": {
     "end_time": "2025-02-15T10:08:10.143410Z",
     "start_time": "2025-02-15T10:08:10.127837Z"
    }
   },
   "outputs": [],
   "source": [
    "def plot_forecast(train_data, y_test, y_pred, model, index, conf_int=None):\n",
    "    \"\"\"\n",
    "    Vẽ và lưu biểu đồ dự báo.\n",
    "\n",
    "    Args:\n",
    "        train_data (pd.Series): Dữ liệu huấn luyện.\n",
    "        y_test (pd.Series): Dữ liệu thực tế.\n",
    "        y_pred (np.array): Giá trị dự báo.\n",
    "        model: Đối tượng model đã được huấn luyện (có thuộc tính `__class__.__name__`).\n",
    "        index (int): Index của dòng metrics đã lưu.\n",
    "        conf_int (np.array, optional): Khoảng tin cậy của dự báo.\n",
    "    \"\"\"\n",
    "    plt.figure(figsize=(12, 6))\n",
    "\n",
    "    train_index = train_data.index\n",
    "    test_index = y_test.index\n",
    "\n",
    "    model_name = model.__class__.__name__\n",
    "\n",
    "    plt.plot(train_index, train_data, label=\"Original Data\", color='gray', alpha=0.5)\n",
    "    plt.plot(test_index, y_test, label=\"Actual\", color='blue')\n",
    "    plt.plot(test_index[:len(y_pred)], y_pred, label=\"Predicted\", color='red', linestyle='dashed')\n",
    "\n",
    "    # Vẽ khoảng tin cậy nếu có\n",
    "    if conf_int is not None:\n",
    "        conf_int = np.array(conf_int).reshape(-1, 2)\n",
    "        lower_bound, upper_bound = conf_int[:, 0], conf_int[:, 1]\n",
    "        plt.fill_between(test_index[:len(y_pred)], lower_bound, upper_bound, \n",
    "                         color='pink', alpha=0.3, label=\"Confidence Interval\")\n",
    "\n",
    "    # Cài đặt đồ thị\n",
    "    plt.title(f\"{model_name} Forecast\")\n",
    "    plt.xlabel(\"Time\")\n",
    "    plt.ylabel(\"Value\")\n",
    "    plt.legend(ncol=4)\n",
    "\n",
    "    # Lưu hình ảnh với tên index_{Model}.png\n",
    "    file_path = f\"{REPORT}_{index}_{model_name}.png\"\n",
    "    plt.savefig(file_path, dpi=300)\n",
    "    plt.close()\n",
    "\n",
    "    print(f\"Plot saved to {file_path}\")\n"
   ]
  },
  {
   "cell_type": "code",
   "execution_count": 449,
   "id": "74166dd8",
   "metadata": {
    "ExecuteTime": {
     "end_time": "2025-02-15T10:08:10.314600Z",
     "start_time": "2025-02-15T10:08:10.291796Z"
    }
   },
   "outputs": [],
   "source": [
    "from sklearn.metrics import mean_absolute_percentage_error, r2_score\n",
    "from datetime import datetime\n",
    "\n",
    "def compute_metrics(model, scaler, y_test, y_pred):\n",
    "    \"\"\"\n",
    "    Tính toán các chỉ số đánh giá mô hình và trả về dưới dạng một dòng DataFrame.\n",
    "\n",
    "    Args:\n",
    "        model (object): Đối tượng mô hình (VD: ARIMA, RandomForest, LSTM,...)\n",
    "        scaler (object): Bộ scaler đã sử dụng (VD: MinMaxScaler, StandardScaler,...)\n",
    "        y_test (array-like): Giá trị thực tế\n",
    "        y_pred (array-like): Giá trị dự đoán\n",
    "\n",
    "    Returns:\n",
    "        pd.DataFrame: Một dòng DataFrame chứa metrics đánh giá mô hình\n",
    "    \"\"\"\n",
    "\n",
    "    model_name = model.__class__.__name__\n",
    "\n",
    "    try:\n",
    "        model_params = model.get_params()\n",
    "    except AttributeError:\n",
    "        try:\n",
    "            model_params = model.order  # Cho ARIMA\n",
    "        except AttributeError:\n",
    "            model_params = \"Unknown\"\n",
    "\n",
    "    scaler_name = scaler.__class__.__name__\n",
    "    execution_date = datetime.today().strftime(\"%d-%m-%Y\")\n",
    "    mape = mean_absolute_percentage_error(y_test, y_pred)\n",
    "    rmse = np.sqrt(np.mean((y_test - y_pred) ** 2))\n",
    "    r2 = r2_score(y_test, y_pred)\n",
    "\n",
    "    result = pd.DataFrame([{\n",
    "        \"Model\": model_name,\n",
    "        \"Scaler\": scaler_name,\n",
    "        \"Params\": str(model_params),\n",
    "        \"MAPE\": mape,\n",
    "        \"RMSE\": rmse,\n",
    "        \"R2 Score\": r2,\n",
    "        \"Execution Date\": execution_date\n",
    "    }])\n",
    "\n",
    "    return result\n"
   ]
  },
  {
   "cell_type": "code",
   "execution_count": 450,
   "id": "a078ebe5",
   "metadata": {
    "ExecuteTime": {
     "end_time": "2025-02-15T10:08:10.455530Z",
     "start_time": "2025-02-15T10:08:10.441311Z"
    }
   },
   "outputs": [],
   "source": [
    "import os\n",
    "\n",
    "def save_metrics_to_csv(df, file_path):\n",
    "    \"\"\"\n",
    "    Lưu DataFrame metrics vào file CSV. Nếu file chưa tồn tại thì tạo mới, \n",
    "    nếu đã tồn tại thì append dữ liệu vào.\n",
    "\n",
    "    Args:\n",
    "        df (pd.DataFrame): DataFrame chứa metrics của mô hình.\n",
    "        file_path (str): Đường dẫn đến file CSV cần lưu.\n",
    "\n",
    "    Returns:\n",
    "        int: Index của dòng vừa được lưu.\n",
    "    \"\"\"\n",
    "    file_exists = os.path.isfile(file_path)\n",
    "\n",
    "    if file_exists:\n",
    "        existing_df = pd.read_csv(file_path)\n",
    "        last_index = existing_df.index[-1] + 1 if not existing_df.empty else 0\n",
    "    else:\n",
    "        last_index = 0\n",
    "\n",
    "    df.index = range(last_index, last_index + len(df))\n",
    "\n",
    "    # Lưu vào CSV\n",
    "    df.to_csv(file_path, mode=\"a\", index=False, header=not file_exists, encoding=\"utf-8\")\n",
    "    \n",
    "    print(f\"Metrics saved to {file_path}\")\n",
    "    \n",
    "    return last_index \n"
   ]
  },
  {
   "cell_type": "markdown",
   "id": "7c8988a9",
   "metadata": {},
   "source": [
    "# Run"
   ]
  },
  {
   "cell_type": "code",
   "execution_count": 511,
   "id": "60c123a4",
   "metadata": {
    "ExecuteTime": {
     "end_time": "2025-02-15T10:22:43.341647Z",
     "start_time": "2025-02-15T10:22:43.325013Z"
    }
   },
   "outputs": [],
   "source": [
    "data = pd.read_csv(DATA_TRAIN_PROCESSED)"
   ]
  },
  {
   "cell_type": "markdown",
   "id": "091937b2",
   "metadata": {},
   "source": [
    "* Configs"
   ]
  },
  {
   "cell_type": "code",
   "execution_count": 512,
   "id": "6047694c",
   "metadata": {
    "ExecuteTime": {
     "end_time": "2025-02-15T10:22:43.626488Z",
     "start_time": "2025-02-15T10:22:43.620980Z"
    }
   },
   "outputs": [],
   "source": [
    "normalize = None"
   ]
  },
  {
   "cell_type": "markdown",
   "id": "97f0c96d",
   "metadata": {},
   "source": [
    "* Process"
   ]
  },
  {
   "cell_type": "code",
   "execution_count": 513,
   "id": "13ccf440",
   "metadata": {
    "ExecuteTime": {
     "end_time": "2025-02-15T10:22:43.924138Z",
     "start_time": "2025-02-15T10:22:43.912655Z"
    }
   },
   "outputs": [],
   "source": [
    "data_copy = data.copy()\n",
    "data_copy[\"Date\"] = pd.to_datetime(data_copy[\"Date\"])\n",
    "data_copy.set_index(\"Date\", inplace=True)"
   ]
  },
  {
   "cell_type": "markdown",
   "id": "f0519ad6",
   "metadata": {},
   "source": [
    "* Split"
   ]
  },
  {
   "cell_type": "code",
   "execution_count": 514,
   "id": "f4484c1b",
   "metadata": {
    "ExecuteTime": {
     "end_time": "2025-02-15T10:22:44.236163Z",
     "start_time": "2025-02-15T10:22:44.228411Z"
    }
   },
   "outputs": [],
   "source": [
    "split_idx = int(len(data_copy) * 0.8)\n",
    "train_data = data_copy.iloc[:split_idx]\n",
    "val_data = data_copy.iloc[split_idx:]\n",
    "length_pred = len(val_data)"
   ]
  },
  {
   "cell_type": "markdown",
   "id": "5d265f47",
   "metadata": {},
   "source": [
    "* Scale"
   ]
  },
  {
   "cell_type": "code",
   "execution_count": 515,
   "id": "4a01e98b",
   "metadata": {
    "ExecuteTime": {
     "end_time": "2025-02-15T10:22:45.157261Z",
     "start_time": "2025-02-15T10:22:45.143179Z"
    }
   },
   "outputs": [],
   "source": [
    "train_scaled, scaler = normalize_data(train_data, method=normalize)\n",
    "if scaler is not None:\n",
    "    val_scaled = scaler.transform(val_data)"
   ]
  },
  {
   "cell_type": "markdown",
   "id": "c54d018e",
   "metadata": {},
   "source": [
    "* Init model"
   ]
  },
  {
   "cell_type": "code",
   "execution_count": 516,
   "id": "0b7e79de",
   "metadata": {
    "ExecuteTime": {
     "end_time": "2025-02-15T10:22:45.982876Z",
     "start_time": "2025-02-15T10:22:45.961878Z"
    }
   },
   "outputs": [],
   "source": [
    "model = ARIMAModel(train_scaled)"
   ]
  },
  {
   "cell_type": "markdown",
   "id": "c306d50c",
   "metadata": {},
   "source": [
    "* fit model"
   ]
  },
  {
   "cell_type": "code",
   "execution_count": 517,
   "id": "c15ffd3a",
   "metadata": {
    "ExecuteTime": {
     "end_time": "2025-02-15T10:23:11.097676Z",
     "start_time": "2025-02-15T10:22:46.323987Z"
    },
    "scrolled": true
   },
   "outputs": [
    {
     "name": "stdout",
     "output_type": "stream",
     "text": [
      "Performing stepwise search to minimize aic\n",
      " ARIMA(2,0,2)(0,0,0)[0]             : AIC=10857.889, Time=1.13 sec\n",
      " ARIMA(0,0,0)(0,0,0)[0]             : AIC=18175.193, Time=0.03 sec\n",
      " ARIMA(1,0,0)(0,0,0)[0]             : AIC=11418.427, Time=0.09 sec\n",
      " ARIMA(0,0,1)(0,0,0)[0]             : AIC=15697.539, Time=0.18 sec\n",
      " ARIMA(1,0,2)(0,0,0)[0]             : AIC=10877.060, Time=0.61 sec\n",
      " ARIMA(2,0,1)(0,0,0)[0]             : AIC=10891.117, Time=1.02 sec\n",
      " ARIMA(3,0,2)(0,0,0)[0]             : AIC=10875.899, Time=1.79 sec\n",
      " ARIMA(2,0,3)(0,0,0)[0]             : AIC=10858.351, Time=1.16 sec\n",
      " ARIMA(1,0,1)(0,0,0)[0]             : AIC=11221.996, Time=0.25 sec\n",
      " ARIMA(1,0,3)(0,0,0)[0]             : AIC=10856.352, Time=0.27 sec\n",
      " ARIMA(0,0,3)(0,0,0)[0]             : AIC=13550.637, Time=0.46 sec\n",
      " ARIMA(1,0,4)(0,0,0)[0]             : AIC=10858.483, Time=0.37 sec\n",
      " ARIMA(0,0,2)(0,0,0)[0]             : AIC=14309.454, Time=0.32 sec\n",
      " ARIMA(0,0,4)(0,0,0)[0]             : AIC=13107.935, Time=0.52 sec\n",
      " ARIMA(2,0,4)(0,0,0)[0]             : AIC=10860.274, Time=0.95 sec\n",
      " ARIMA(1,0,3)(0,0,0)[0] intercept   : AIC=10848.306, Time=2.03 sec\n",
      " ARIMA(0,0,3)(0,0,0)[0] intercept   : AIC=11436.519, Time=0.96 sec\n",
      " ARIMA(1,0,2)(0,0,0)[0] intercept   : AIC=10867.639, Time=1.48 sec\n",
      " ARIMA(2,0,3)(0,0,0)[0] intercept   : AIC=10850.296, Time=3.25 sec\n",
      " ARIMA(1,0,4)(0,0,0)[0] intercept   : AIC=10850.293, Time=2.16 sec\n",
      " ARIMA(0,0,2)(0,0,0)[0] intercept   : AIC=11573.567, Time=0.62 sec\n",
      " ARIMA(0,0,4)(0,0,0)[0] intercept   : AIC=11352.894, Time=1.10 sec\n",
      " ARIMA(2,0,2)(0,0,0)[0] intercept   : AIC=10849.969, Time=2.19 sec\n",
      " ARIMA(2,0,4)(0,0,0)[0] intercept   : AIC=10852.167, Time=1.78 sec\n",
      "\n",
      "Best model:  ARIMA(1,0,3)(0,0,0)[0] intercept\n",
      "Total fit time: 24.742 seconds\n",
      "Best params:                                SARIMAX Results                                \n",
      "==============================================================================\n",
      "Dep. Variable:                      y   No. Observations:                 2336\n",
      "Model:               SARIMAX(1, 0, 3)   Log Likelihood               -5418.153\n",
      "Date:                Sat, 15 Feb 2025   AIC                          10848.306\n",
      "Time:                        17:23:11   BIC                          10882.844\n",
      "Sample:                             0   HQIC                         10860.888\n",
      "                               - 2336                                         \n",
      "Covariance Type:                  opg                                         \n",
      "==============================================================================\n",
      "                 coef    std err          z      P>|z|      [0.025      0.975]\n",
      "------------------------------------------------------------------------------\n",
      "intercept      0.0860      0.033      2.581      0.010       0.021       0.151\n",
      "ar.L1          0.9925      0.003    360.558      0.000       0.987       0.998\n",
      "ma.L1         -0.4068      0.020    -20.676      0.000      -0.445      -0.368\n",
      "ma.L2         -0.3333      0.021    -15.780      0.000      -0.375      -0.292\n",
      "ma.L3         -0.0960      0.020     -4.871      0.000      -0.135      -0.057\n",
      "sigma2         6.0512      0.169     35.798      0.000       5.720       6.383\n",
      "===================================================================================\n",
      "Ljung-Box (L1) (Q):                   0.01   Jarque-Bera (JB):                 7.98\n",
      "Prob(Q):                              0.92   Prob(JB):                         0.02\n",
      "Heteroskedasticity (H):               0.88   Skew:                             0.07\n",
      "Prob(H) (two-sided):                  0.09   Kurtosis:                         3.25\n",
      "===================================================================================\n",
      "\n",
      "Warnings:\n",
      "[1] Covariance matrix calculated using the outer product of gradients (complex-step).\n"
     ]
    }
   ],
   "source": [
    "model.fit()"
   ]
  },
  {
   "cell_type": "markdown",
   "id": "34bf197d",
   "metadata": {},
   "source": [
    "* forecast"
   ]
  },
  {
   "cell_type": "code",
   "execution_count": 518,
   "id": "32031a51",
   "metadata": {
    "ExecuteTime": {
     "end_time": "2025-02-15T10:23:11.128651Z",
     "start_time": "2025-02-15T10:23:11.100674Z"
    },
    "scrolled": true
   },
   "outputs": [],
   "source": [
    "predictions, conf_int = model.predict(length_pred)"
   ]
  },
  {
   "cell_type": "markdown",
   "id": "a2c3df1b",
   "metadata": {},
   "source": [
    "* Inverse scale"
   ]
  },
  {
   "cell_type": "code",
   "execution_count": 520,
   "id": "c79c4585",
   "metadata": {
    "ExecuteTime": {
     "end_time": "2025-02-15T10:23:20.478343Z",
     "start_time": "2025-02-15T10:23:20.460520Z"
    }
   },
   "outputs": [],
   "source": [
    "if scaler is not None:\n",
    "    y_pred = inverse_scale(predictions, scaler)\n",
    "    conf_int[:,0] = inverse_scale(conf_int[:,0], scaler)\n",
    "    conf_int[:,1] = inverse_scale(conf_int[:,1], scaler)"
   ]
  },
  {
   "cell_type": "markdown",
   "id": "2b83b6d3",
   "metadata": {},
   "source": [
    "* Evaluate"
   ]
  },
  {
   "cell_type": "code",
   "execution_count": 521,
   "id": "77f26013",
   "metadata": {
    "ExecuteTime": {
     "end_time": "2025-02-15T10:23:22.067759Z",
     "start_time": "2025-02-15T10:23:22.049448Z"
    }
   },
   "outputs": [
    {
     "data": {
      "text/html": [
       "<div>\n",
       "<style scoped>\n",
       "    .dataframe tbody tr th:only-of-type {\n",
       "        vertical-align: middle;\n",
       "    }\n",
       "\n",
       "    .dataframe tbody tr th {\n",
       "        vertical-align: top;\n",
       "    }\n",
       "\n",
       "    .dataframe thead th {\n",
       "        text-align: right;\n",
       "    }\n",
       "</style>\n",
       "<table border=\"1\" class=\"dataframe\">\n",
       "  <thead>\n",
       "    <tr style=\"text-align: right;\">\n",
       "      <th></th>\n",
       "      <th>Model</th>\n",
       "      <th>Scaler</th>\n",
       "      <th>Params</th>\n",
       "      <th>MAPE</th>\n",
       "      <th>RMSE</th>\n",
       "      <th>R2 Score</th>\n",
       "      <th>Execution Date</th>\n",
       "    </tr>\n",
       "  </thead>\n",
       "  <tbody>\n",
       "    <tr>\n",
       "      <th>0</th>\n",
       "      <td>ARIMAModel</td>\n",
       "      <td>NoneType</td>\n",
       "      <td>(1, 0, 3)</td>\n",
       "      <td>0.34666</td>\n",
       "      <td>3.890336</td>\n",
       "      <td>0.035631</td>\n",
       "      <td>15-02-2025</td>\n",
       "    </tr>\n",
       "  </tbody>\n",
       "</table>\n",
       "</div>"
      ],
      "text/plain": [
       "        Model    Scaler     Params     MAPE      RMSE  R2 Score Execution Date\n",
       "0  ARIMAModel  NoneType  (1, 0, 3)  0.34666  3.890336  0.035631     15-02-2025"
      ]
     },
     "execution_count": 521,
     "metadata": {},
     "output_type": "execute_result"
    }
   ],
   "source": [
    "df_metrics = compute_metrics(model, scaler, val_data.values, y_pred)\n",
    "df_metrics"
   ]
  },
  {
   "cell_type": "markdown",
   "id": "f60c0600",
   "metadata": {},
   "source": [
    "* Save results"
   ]
  },
  {
   "cell_type": "code",
   "execution_count": 522,
   "id": "fe6c7b3a",
   "metadata": {
    "ExecuteTime": {
     "end_time": "2025-02-15T10:23:29.094120Z",
     "start_time": "2025-02-15T10:23:28.457870Z"
    }
   },
   "outputs": [
    {
     "name": "stdout",
     "output_type": "stream",
     "text": [
      "Metrics saved to ../models/log/metrics_results.csv\n",
      "Plot saved to ../reports/results/_5_ARIMAModel.png\n"
     ]
    },
    {
     "data": {
      "text/html": [
       "<div>\n",
       "<style scoped>\n",
       "    .dataframe tbody tr th:only-of-type {\n",
       "        vertical-align: middle;\n",
       "    }\n",
       "\n",
       "    .dataframe tbody tr th {\n",
       "        vertical-align: top;\n",
       "    }\n",
       "\n",
       "    .dataframe thead th {\n",
       "        text-align: right;\n",
       "    }\n",
       "</style>\n",
       "<table border=\"1\" class=\"dataframe\">\n",
       "  <thead>\n",
       "    <tr style=\"text-align: right;\">\n",
       "      <th></th>\n",
       "      <th>Model</th>\n",
       "      <th>Scaler</th>\n",
       "      <th>Params</th>\n",
       "      <th>MAPE</th>\n",
       "      <th>RMSE</th>\n",
       "      <th>R2 Score</th>\n",
       "      <th>Execution Date</th>\n",
       "    </tr>\n",
       "  </thead>\n",
       "  <tbody>\n",
       "    <tr>\n",
       "      <th>0</th>\n",
       "      <td>ARIMAModel</td>\n",
       "      <td>StandardScaler</td>\n",
       "      <td>(0, 1, 3)</td>\n",
       "      <td>0.338293</td>\n",
       "      <td>3.982606</td>\n",
       "      <td>-0.055332</td>\n",
       "      <td>15-02-2025</td>\n",
       "    </tr>\n",
       "    <tr>\n",
       "      <th>1</th>\n",
       "      <td>SARIMAModel</td>\n",
       "      <td>StandardScaler</td>\n",
       "      <td>(3, 0, 1)</td>\n",
       "      <td>0.346660</td>\n",
       "      <td>3.890336</td>\n",
       "      <td>0.035631</td>\n",
       "      <td>15-02-2025</td>\n",
       "    </tr>\n",
       "    <tr>\n",
       "      <th>2</th>\n",
       "      <td>ARIMAModel</td>\n",
       "      <td>MinMaxScaler</td>\n",
       "      <td>(0, 1, 3)</td>\n",
       "      <td>0.338292</td>\n",
       "      <td>3.982621</td>\n",
       "      <td>-0.055340</td>\n",
       "      <td>15-02-2025</td>\n",
       "    </tr>\n",
       "    <tr>\n",
       "      <th>3</th>\n",
       "      <td>ARIMAModel</td>\n",
       "      <td>MinMaxScaler</td>\n",
       "      <td>(1, 0, 3)</td>\n",
       "      <td>0.350286</td>\n",
       "      <td>3.891061</td>\n",
       "      <td>0.046005</td>\n",
       "      <td>15-02-2025</td>\n",
       "    </tr>\n",
       "    <tr>\n",
       "      <th>4</th>\n",
       "      <td>ARIMAModel</td>\n",
       "      <td>StandardScaler</td>\n",
       "      <td>(3, 0, 1)</td>\n",
       "      <td>0.346660</td>\n",
       "      <td>3.890336</td>\n",
       "      <td>0.035631</td>\n",
       "      <td>15-02-2025</td>\n",
       "    </tr>\n",
       "    <tr>\n",
       "      <th>5</th>\n",
       "      <td>ARIMAModel</td>\n",
       "      <td>NoneType</td>\n",
       "      <td>(1, 0, 3)</td>\n",
       "      <td>0.346660</td>\n",
       "      <td>3.890336</td>\n",
       "      <td>0.035631</td>\n",
       "      <td>15-02-2025</td>\n",
       "    </tr>\n",
       "  </tbody>\n",
       "</table>\n",
       "</div>"
      ],
      "text/plain": [
       "         Model          Scaler     Params      MAPE      RMSE  R2 Score  \\\n",
       "0   ARIMAModel  StandardScaler  (0, 1, 3)  0.338293  3.982606 -0.055332   \n",
       "1  SARIMAModel  StandardScaler  (3, 0, 1)  0.346660  3.890336  0.035631   \n",
       "2   ARIMAModel    MinMaxScaler  (0, 1, 3)  0.338292  3.982621 -0.055340   \n",
       "3   ARIMAModel    MinMaxScaler  (1, 0, 3)  0.350286  3.891061  0.046005   \n",
       "4   ARIMAModel  StandardScaler  (3, 0, 1)  0.346660  3.890336  0.035631   \n",
       "5   ARIMAModel        NoneType  (1, 0, 3)  0.346660  3.890336  0.035631   \n",
       "\n",
       "  Execution Date  \n",
       "0     15-02-2025  \n",
       "1     15-02-2025  \n",
       "2     15-02-2025  \n",
       "3     15-02-2025  \n",
       "4     15-02-2025  \n",
       "5     15-02-2025  "
      ]
     },
     "execution_count": 522,
     "metadata": {},
     "output_type": "execute_result"
    }
   ],
   "source": [
    "# Save metrics\n",
    "index = save_metrics_to_csv(df_metrics, LOG_RESULTS)\n",
    "# Save plot\n",
    "plot_forecast(train_data, val_data, y_pred, model, index=index, conf_int=conf_int)\n",
    "pd.read_csv(LOG_RESULTS)"
   ]
  },
  {
   "cell_type": "code",
   "execution_count": null,
   "id": "959b3203",
   "metadata": {},
   "outputs": [],
   "source": []
  }
 ],
 "metadata": {
  "kernelspec": {
   "display_name": "Python 3 (ipykernel)",
   "language": "python",
   "name": "python3"
  },
  "language_info": {
   "codemirror_mode": {
    "name": "ipython",
    "version": 3
   },
   "file_extension": ".py",
   "mimetype": "text/x-python",
   "name": "python",
   "nbconvert_exporter": "python",
   "pygments_lexer": "ipython3",
   "version": "3.9.13"
  },
  "toc": {
   "base_numbering": 1,
   "nav_menu": {},
   "number_sections": true,
   "sideBar": true,
   "skip_h1_title": false,
   "title_cell": "Table of Contents",
   "title_sidebar": "Contents",
   "toc_cell": false,
   "toc_position": {
    "height": "calc(100% - 180px)",
    "left": "10px",
    "top": "150px",
    "width": "369px"
   },
   "toc_section_display": true,
   "toc_window_display": true
  }
 },
 "nbformat": 4,
 "nbformat_minor": 5
}
